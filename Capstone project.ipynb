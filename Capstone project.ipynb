{
    "cells": [
        {
            "cell_type": "markdown",
            "metadata": {
                "collapsed": true
            },
            "source": "# Introduction/Business problem"
        },
        {
            "cell_type": "markdown",
            "metadata": {},
            "source": "My research has the following goal"
        },
        {
            "cell_type": "markdown",
            "metadata": {},
            "source": "A friend of mine, who is in charge of a burger joint, needs to open a new location in Chicago. He intends to do it in a Douglas community area/borrough because he found numerous suitable places which are for sale or are available for rent. My friend is not very familiar with the city of Chicago and Douglas community area, which entails 8 neighbourhoods so he asked for help and needs me to analyze this community area and its most common places to decide which neighbourhood is the most suitable for the new location of his new burger place"
        },
        {
            "cell_type": "markdown",
            "metadata": {},
            "source": "Since I am not a Chicago native and I'm not familiar with the Douglas community area, to help my friend I decided to use Foursquare location data and give him a report on the 8 neighbourhoods and their most common places, so we can decide which one is the most suitable for the new burger place"
        },
        {
            "cell_type": "markdown",
            "metadata": {},
            "source": "# Data section"
        },
        {
            "cell_type": "markdown",
            "metadata": {},
            "source": "To solve our business problem I will have 2 main data sources in my report"
        },
        {
            "cell_type": "markdown",
            "metadata": {},
            "source": "1. Wikipedia article about the neighborhoods of Chicago"
        },
        {
            "cell_type": "markdown",
            "metadata": {},
            "source": "The article has the following URL (https://en.wikipedia.org/wiki/List_of_neighborhoods_in_Chicago) <br>\nThe article contains the table where the community areas with their respective neighborhoods are displayed. The table is a very suitable format since I can easily import it into my jupyter notebook and turn it into a pandas dataframe"
        },
        {
            "cell_type": "markdown",
            "metadata": {},
            "source": "2. Foursquare data <br>\nSecond data source is of course Foursquare. I will connect to their database and get the data about the venues in the Douglas community area and its' neighborhoods. Then I will analyze it to display the most common places based on the neighborhoods and cluster these 8 neighborhoods into 5 clusters"
        },
        {
            "cell_type": "markdown",
            "metadata": {},
            "source": "# Methodology"
        },
        {
            "cell_type": "markdown",
            "metadata": {},
            "source": "To reach my goal I will mainly use categorizing and grouping of the venues. Also, location visualization techniques, to map first the neighborhoods then created clusters on the map with relevant labels. Finally, I will use k-means clustering to facilitate the decision making"
        },
        {
            "cell_type": "markdown",
            "metadata": {},
            "source": "# Analysis section"
        },
        {
            "cell_type": "markdown",
            "metadata": {},
            "source": "First let's import the neighborhood data from the Wikipedia page, sort it by Community areas and reset the index"
        },
        {
            "cell_type": "code",
            "execution_count": 2,
            "metadata": {},
            "outputs": [
                {
                    "name": "stdout",
                    "output_type": "stream",
                    "text": "Done\n"
                }
            ],
            "source": "import pandas as pd\nprint(\"Done\")"
        },
        {
            "cell_type": "code",
            "execution_count": 5,
            "metadata": {},
            "outputs": [
                {
                    "data": {
                        "text/html": "<div>\n<style scoped>\n    .dataframe tbody tr th:only-of-type {\n        vertical-align: middle;\n    }\n\n    .dataframe tbody tr th {\n        vertical-align: top;\n    }\n\n    .dataframe thead th {\n        text-align: right;\n    }\n</style>\n<table border=\"1\" class=\"dataframe\">\n  <thead>\n    <tr style=\"text-align: right;\">\n      <th></th>\n      <th>Neighborhood</th>\n      <th>Community area</th>\n    </tr>\n  </thead>\n  <tbody>\n    <tr>\n      <th>0</th>\n      <td>Albany Park</td>\n      <td>Albany Park</td>\n    </tr>\n    <tr>\n      <th>1</th>\n      <td>Altgeld Gardens</td>\n      <td>Riverdale</td>\n    </tr>\n    <tr>\n      <th>2</th>\n      <td>Andersonville</td>\n      <td>Edgewater</td>\n    </tr>\n    <tr>\n      <th>3</th>\n      <td>Archer Heights</td>\n      <td>Archer Heights</td>\n    </tr>\n    <tr>\n      <th>4</th>\n      <td>Armour Square</td>\n      <td>Armour Square</td>\n    </tr>\n  </tbody>\n</table>\n</div>",
                        "text/plain": "      Neighborhood  Community area\n0      Albany Park     Albany Park\n1  Altgeld Gardens       Riverdale\n2    Andersonville       Edgewater\n3   Archer Heights  Archer Heights\n4    Armour Square   Armour Square"
                    },
                    "execution_count": 5,
                    "metadata": {},
                    "output_type": "execute_result"
                }
            ],
            "source": "url='https://en.wikipedia.org/wiki/List_of_neighborhoods_in_Chicago'\n\ndf=pd.read_html(url, index_col=None, header=0)[0]\n\ndf.head()"
        },
        {
            "cell_type": "code",
            "execution_count": 6,
            "metadata": {},
            "outputs": [
                {
                    "data": {
                        "text/html": "<div>\n<style scoped>\n    .dataframe tbody tr th:only-of-type {\n        vertical-align: middle;\n    }\n\n    .dataframe tbody tr th {\n        vertical-align: top;\n    }\n\n    .dataframe thead th {\n        text-align: right;\n    }\n</style>\n<table border=\"1\" class=\"dataframe\">\n  <thead>\n    <tr style=\"text-align: right;\">\n      <th></th>\n      <th>Neighborhood</th>\n      <th>Community area</th>\n    </tr>\n  </thead>\n  <tbody>\n    <tr>\n      <th>0</th>\n      <td>Albany Park</td>\n      <td>Albany Park</td>\n    </tr>\n    <tr>\n      <th>129</th>\n      <td>Mayfair</td>\n      <td>Albany Park</td>\n    </tr>\n    <tr>\n      <th>147</th>\n      <td>North Mayfair</td>\n      <td>Albany Park</td>\n    </tr>\n    <tr>\n      <th>179</th>\n      <td>Ravenswood Manor</td>\n      <td>Albany Park</td>\n    </tr>\n    <tr>\n      <th>3</th>\n      <td>Archer Heights</td>\n      <td>Archer Heights</td>\n    </tr>\n  </tbody>\n</table>\n</div>",
                        "text/plain": "         Neighborhood  Community area\n0         Albany Park     Albany Park\n129           Mayfair     Albany Park\n147     North Mayfair     Albany Park\n179  Ravenswood Manor     Albany Park\n3      Archer Heights  Archer Heights"
                    },
                    "execution_count": 6,
                    "metadata": {},
                    "output_type": "execute_result"
                }
            ],
            "source": "df.sort_values(by=['Community area'], inplace=True)\ndf.head()"
        },
        {
            "cell_type": "code",
            "execution_count": 7,
            "metadata": {},
            "outputs": [
                {
                    "data": {
                        "text/html": "<div>\n<style scoped>\n    .dataframe tbody tr th:only-of-type {\n        vertical-align: middle;\n    }\n\n    .dataframe tbody tr th {\n        vertical-align: top;\n    }\n\n    .dataframe thead th {\n        text-align: right;\n    }\n</style>\n<table border=\"1\" class=\"dataframe\">\n  <thead>\n    <tr style=\"text-align: right;\">\n      <th></th>\n      <th>Neighborhood</th>\n      <th>Community area</th>\n    </tr>\n  </thead>\n  <tbody>\n    <tr>\n      <th>0</th>\n      <td>Albany Park</td>\n      <td>Albany Park</td>\n    </tr>\n    <tr>\n      <th>1</th>\n      <td>Mayfair</td>\n      <td>Albany Park</td>\n    </tr>\n    <tr>\n      <th>2</th>\n      <td>North Mayfair</td>\n      <td>Albany Park</td>\n    </tr>\n    <tr>\n      <th>3</th>\n      <td>Ravenswood Manor</td>\n      <td>Albany Park</td>\n    </tr>\n    <tr>\n      <th>4</th>\n      <td>Archer Heights</td>\n      <td>Archer Heights</td>\n    </tr>\n  </tbody>\n</table>\n</div>",
                        "text/plain": "       Neighborhood  Community area\n0       Albany Park     Albany Park\n1           Mayfair     Albany Park\n2     North Mayfair     Albany Park\n3  Ravenswood Manor     Albany Park\n4    Archer Heights  Archer Heights"
                    },
                    "execution_count": 7,
                    "metadata": {},
                    "output_type": "execute_result"
                }
            ],
            "source": "df.reset_index(drop = True, inplace = True)\ndf.head()"
        },
        {
            "cell_type": "markdown",
            "metadata": {},
            "source": "Let's also install libraries which will come handy soon"
        },
        {
            "cell_type": "code",
            "execution_count": 8,
            "metadata": {},
            "outputs": [
                {
                    "name": "stdout",
                    "output_type": "stream",
                    "text": "Requirement already satisfied: geopy in /opt/conda/envs/Python-3.7-main/lib/python3.7/site-packages (2.0.0)\nRequirement already satisfied: geographiclib<2,>=1.49 in /opt/conda/envs/Python-3.7-main/lib/python3.7/site-packages (from geopy) (1.50)\nCollecting geocoder\n  Downloading geocoder-1.38.1-py2.py3-none-any.whl (98 kB)\n\u001b[K     |\u2588\u2588\u2588\u2588\u2588\u2588\u2588\u2588\u2588\u2588\u2588\u2588\u2588\u2588\u2588\u2588\u2588\u2588\u2588\u2588\u2588\u2588\u2588\u2588\u2588\u2588\u2588\u2588\u2588\u2588\u2588\u2588| 98 kB 7.2 MB/s  eta 0:00:01\n\u001b[?25hRequirement already satisfied: future in /opt/conda/envs/Python-3.7-main/lib/python3.7/site-packages (from geocoder) (0.18.2)\nCollecting ratelim\n  Downloading ratelim-0.1.6-py2.py3-none-any.whl (4.0 kB)\nRequirement already satisfied: six in /opt/conda/envs/Python-3.7-main/lib/python3.7/site-packages (from geocoder) (1.15.0)\nRequirement already satisfied: requests in /opt/conda/envs/Python-3.7-main/lib/python3.7/site-packages (from geocoder) (2.24.0)\nRequirement already satisfied: click in /opt/conda/envs/Python-3.7-main/lib/python3.7/site-packages (from geocoder) (7.1.2)\nRequirement already satisfied: decorator in /opt/conda/envs/Python-3.7-main/lib/python3.7/site-packages (from ratelim->geocoder) (4.4.2)\nRequirement already satisfied: urllib3!=1.25.0,!=1.25.1,<1.26,>=1.21.1 in /opt/conda/envs/Python-3.7-main/lib/python3.7/site-packages (from requests->geocoder) (1.25.9)\nRequirement already satisfied: certifi>=2017.4.17 in /opt/conda/envs/Python-3.7-main/lib/python3.7/site-packages (from requests->geocoder) (2020.11.8)\nRequirement already satisfied: idna<3,>=2.5 in /opt/conda/envs/Python-3.7-main/lib/python3.7/site-packages (from requests->geocoder) (2.9)\nRequirement already satisfied: chardet<4,>=3.0.2 in /opt/conda/envs/Python-3.7-main/lib/python3.7/site-packages (from requests->geocoder) (3.0.4)\nInstalling collected packages: ratelim, geocoder\nSuccessfully installed geocoder-1.38.1 ratelim-0.1.6\nCollecting folium\n  Downloading folium-0.11.0-py2.py3-none-any.whl (93 kB)\n\u001b[K     |\u2588\u2588\u2588\u2588\u2588\u2588\u2588\u2588\u2588\u2588\u2588\u2588\u2588\u2588\u2588\u2588\u2588\u2588\u2588\u2588\u2588\u2588\u2588\u2588\u2588\u2588\u2588\u2588\u2588\u2588\u2588\u2588| 93 kB 2.9 MB/s  eta 0:00:01\n\u001b[?25hRequirement already satisfied: jinja2>=2.9 in /opt/conda/envs/Python-3.7-main/lib/python3.7/site-packages (from folium) (2.11.2)\nCollecting branca>=0.3.0\n  Downloading branca-0.4.1-py3-none-any.whl (24 kB)\nRequirement already satisfied: requests in /opt/conda/envs/Python-3.7-main/lib/python3.7/site-packages (from folium) (2.24.0)\nRequirement already satisfied: numpy in /opt/conda/envs/Python-3.7-main/lib/python3.7/site-packages (from folium) (1.18.5)\nRequirement already satisfied: MarkupSafe>=0.23 in /opt/conda/envs/Python-3.7-main/lib/python3.7/site-packages (from jinja2>=2.9->folium) (1.1.1)\nRequirement already satisfied: idna<3,>=2.5 in /opt/conda/envs/Python-3.7-main/lib/python3.7/site-packages (from requests->folium) (2.9)\nRequirement already satisfied: urllib3!=1.25.0,!=1.25.1,<1.26,>=1.21.1 in /opt/conda/envs/Python-3.7-main/lib/python3.7/site-packages (from requests->folium) (1.25.9)\nRequirement already satisfied: chardet<4,>=3.0.2 in /opt/conda/envs/Python-3.7-main/lib/python3.7/site-packages (from requests->folium) (3.0.4)\nRequirement already satisfied: certifi>=2017.4.17 in /opt/conda/envs/Python-3.7-main/lib/python3.7/site-packages (from requests->folium) (2020.11.8)\nInstalling collected packages: branca, folium\nSuccessfully installed branca-0.4.1 folium-0.11.0\ndone\n"
                }
            ],
            "source": "!pip install geopy\n!pip install geocoder\n!pip install folium\nimport folium\nfrom geopy.geocoders import Nominatim\nprint(\"done\")"
        },
        {
            "cell_type": "markdown",
            "metadata": {},
            "source": "As I mentioned in the introduction section, we are particularly interested in the Douglas community area. So I will create a separate dataframe for Douglas"
        },
        {
            "cell_type": "code",
            "execution_count": 9,
            "metadata": {},
            "outputs": [
                {
                    "data": {
                        "text/html": "<div>\n<style scoped>\n    .dataframe tbody tr th:only-of-type {\n        vertical-align: middle;\n    }\n\n    .dataframe tbody tr th {\n        vertical-align: top;\n    }\n\n    .dataframe thead th {\n        text-align: right;\n    }\n</style>\n<table border=\"1\" class=\"dataframe\">\n  <thead>\n    <tr style=\"text-align: right;\">\n      <th></th>\n      <th>Neighborhood</th>\n      <th>Community area</th>\n    </tr>\n  </thead>\n  <tbody>\n    <tr>\n      <th>0</th>\n      <td>South Commons</td>\n      <td>Douglas</td>\n    </tr>\n    <tr>\n      <th>1</th>\n      <td>Prairie Shores</td>\n      <td>Douglas</td>\n    </tr>\n    <tr>\n      <th>2</th>\n      <td>Lake Meadows</td>\n      <td>Douglas</td>\n    </tr>\n    <tr>\n      <th>3</th>\n      <td>Bronzeville</td>\n      <td>Douglas</td>\n    </tr>\n    <tr>\n      <th>4</th>\n      <td>Stateway Gardens</td>\n      <td>Douglas</td>\n    </tr>\n    <tr>\n      <th>5</th>\n      <td>Groveland Park</td>\n      <td>Douglas</td>\n    </tr>\n    <tr>\n      <th>6</th>\n      <td>The Gap</td>\n      <td>Douglas</td>\n    </tr>\n    <tr>\n      <th>7</th>\n      <td>Dearborn Homes</td>\n      <td>Douglas</td>\n    </tr>\n  </tbody>\n</table>\n</div>",
                        "text/plain": "       Neighborhood Community area\n0     South Commons        Douglas\n1    Prairie Shores        Douglas\n2      Lake Meadows        Douglas\n3       Bronzeville        Douglas\n4  Stateway Gardens        Douglas\n5    Groveland Park        Douglas\n6           The Gap        Douglas\n7    Dearborn Homes        Douglas"
                    },
                    "execution_count": 9,
                    "metadata": {},
                    "output_type": "execute_result"
                }
            ],
            "source": "douglas = df[df['Community area'] == 'Douglas'].reset_index(drop=True)\ndouglas"
        },
        {
            "cell_type": "markdown",
            "metadata": {},
            "source": "As you can see, unfortunately our data from Wikipedia does not include ZipCodes or lattitude/longitude values so I generated a separate list of neighborhood coordinates to append to our dataframe "
        },
        {
            "cell_type": "code",
            "execution_count": 12,
            "metadata": {},
            "outputs": [
                {
                    "data": {
                        "text/plain": "{'lattitude': [41.842182,\n  41.8423,\n  41.8352,\n  41.824774,\n  41.8275,\n  41.8322,\n  41.8343,\n  41.8431],\n 'longitude': [-87.6203,\n  -87.6149,\n  -87.614,\n  -87.624294,\n  -87.6284,\n  -87.6094,\n  -87.6199,\n  -87.6278]}"
                    },
                    "execution_count": 12,
                    "metadata": {},
                    "output_type": "execute_result"
                }
            ],
            "source": "({\"lattitude\":[41.842182,41.8423,41.8352,41.824774,41.8275,41.8322,41.8343,41.8431],\n                  \"longitude\":[-87.6203,-87.6149,-87.6140,-87.624294,-87.6284,-87.6094,-87.6199,-87.6278]})"
        },
        {
            "cell_type": "code",
            "execution_count": 13,
            "metadata": {},
            "outputs": [
                {
                    "data": {
                        "text/html": "<div>\n<style scoped>\n    .dataframe tbody tr th:only-of-type {\n        vertical-align: middle;\n    }\n\n    .dataframe tbody tr th {\n        vertical-align: top;\n    }\n\n    .dataframe thead th {\n        text-align: right;\n    }\n</style>\n<table border=\"1\" class=\"dataframe\">\n  <thead>\n    <tr style=\"text-align: right;\">\n      <th></th>\n      <th>Neighborhood</th>\n      <th>Community area</th>\n      <th>lattitude</th>\n    </tr>\n  </thead>\n  <tbody>\n    <tr>\n      <th>0</th>\n      <td>South Commons</td>\n      <td>Douglas</td>\n      <td>41.842182</td>\n    </tr>\n    <tr>\n      <th>1</th>\n      <td>Prairie Shores</td>\n      <td>Douglas</td>\n      <td>41.842300</td>\n    </tr>\n    <tr>\n      <th>2</th>\n      <td>Lake Meadows</td>\n      <td>Douglas</td>\n      <td>41.835200</td>\n    </tr>\n    <tr>\n      <th>3</th>\n      <td>Bronzeville</td>\n      <td>Douglas</td>\n      <td>41.824774</td>\n    </tr>\n    <tr>\n      <th>4</th>\n      <td>Stateway Gardens</td>\n      <td>Douglas</td>\n      <td>41.827500</td>\n    </tr>\n    <tr>\n      <th>5</th>\n      <td>Groveland Park</td>\n      <td>Douglas</td>\n      <td>41.832200</td>\n    </tr>\n    <tr>\n      <th>6</th>\n      <td>The Gap</td>\n      <td>Douglas</td>\n      <td>41.834300</td>\n    </tr>\n    <tr>\n      <th>7</th>\n      <td>Dearborn Homes</td>\n      <td>Douglas</td>\n      <td>41.843100</td>\n    </tr>\n  </tbody>\n</table>\n</div>",
                        "text/plain": "       Neighborhood Community area  lattitude\n0     South Commons        Douglas  41.842182\n1    Prairie Shores        Douglas  41.842300\n2      Lake Meadows        Douglas  41.835200\n3       Bronzeville        Douglas  41.824774\n4  Stateway Gardens        Douglas  41.827500\n5    Groveland Park        Douglas  41.832200\n6           The Gap        Douglas  41.834300\n7    Dearborn Homes        Douglas  41.843100"
                    },
                    "execution_count": 13,
                    "metadata": {},
                    "output_type": "execute_result"
                }
            ],
            "source": "douglas.insert(2,\"lattitude\", [41.842182,41.8423,41.8352,41.824774,41.8275,41.8322,41.8343,41.8431], True)\ndouglas"
        },
        {
            "cell_type": "code",
            "execution_count": 14,
            "metadata": {},
            "outputs": [
                {
                    "data": {
                        "text/html": "<div>\n<style scoped>\n    .dataframe tbody tr th:only-of-type {\n        vertical-align: middle;\n    }\n\n    .dataframe tbody tr th {\n        vertical-align: top;\n    }\n\n    .dataframe thead th {\n        text-align: right;\n    }\n</style>\n<table border=\"1\" class=\"dataframe\">\n  <thead>\n    <tr style=\"text-align: right;\">\n      <th></th>\n      <th>Neighborhood</th>\n      <th>Community area</th>\n      <th>lattitude</th>\n      <th>longitude</th>\n    </tr>\n  </thead>\n  <tbody>\n    <tr>\n      <th>0</th>\n      <td>South Commons</td>\n      <td>Douglas</td>\n      <td>41.842182</td>\n      <td>-87.620300</td>\n    </tr>\n    <tr>\n      <th>1</th>\n      <td>Prairie Shores</td>\n      <td>Douglas</td>\n      <td>41.842300</td>\n      <td>-87.614900</td>\n    </tr>\n    <tr>\n      <th>2</th>\n      <td>Lake Meadows</td>\n      <td>Douglas</td>\n      <td>41.835200</td>\n      <td>-87.614000</td>\n    </tr>\n    <tr>\n      <th>3</th>\n      <td>Bronzeville</td>\n      <td>Douglas</td>\n      <td>41.824774</td>\n      <td>-87.624294</td>\n    </tr>\n    <tr>\n      <th>4</th>\n      <td>Stateway Gardens</td>\n      <td>Douglas</td>\n      <td>41.827500</td>\n      <td>-87.628400</td>\n    </tr>\n    <tr>\n      <th>5</th>\n      <td>Groveland Park</td>\n      <td>Douglas</td>\n      <td>41.832200</td>\n      <td>-87.609400</td>\n    </tr>\n    <tr>\n      <th>6</th>\n      <td>The Gap</td>\n      <td>Douglas</td>\n      <td>41.834300</td>\n      <td>-87.619900</td>\n    </tr>\n    <tr>\n      <th>7</th>\n      <td>Dearborn Homes</td>\n      <td>Douglas</td>\n      <td>41.843100</td>\n      <td>-87.627800</td>\n    </tr>\n  </tbody>\n</table>\n</div>",
                        "text/plain": "       Neighborhood Community area  lattitude  longitude\n0     South Commons        Douglas  41.842182 -87.620300\n1    Prairie Shores        Douglas  41.842300 -87.614900\n2      Lake Meadows        Douglas  41.835200 -87.614000\n3       Bronzeville        Douglas  41.824774 -87.624294\n4  Stateway Gardens        Douglas  41.827500 -87.628400\n5    Groveland Park        Douglas  41.832200 -87.609400\n6           The Gap        Douglas  41.834300 -87.619900\n7    Dearborn Homes        Douglas  41.843100 -87.627800"
                    },
                    "execution_count": 14,
                    "metadata": {},
                    "output_type": "execute_result"
                }
            ],
            "source": "douglas.insert(3,\"longitude\", [-87.6203,-87.6149,-87.6140,-87.624294,-87.6284,-87.6094,-87.6199,-87.6278], True)\ndouglas"
        },
        {
            "cell_type": "markdown",
            "metadata": {},
            "source": "Now let's visualize neighborhoods on the map"
        },
        {
            "cell_type": "code",
            "execution_count": 15,
            "metadata": {},
            "outputs": [
                {
                    "name": "stdout",
                    "output_type": "stream",
                    "text": "The geographical coordinate of Douglas are 39.7628415, -88.2170516.\n"
                }
            ],
            "source": "address = 'Douglas'\n\ngeolocator = Nominatim(user_agent=\"Do_explorer\")\nlocation = geolocator.geocode(address)\nlatitude = location.latitude\nlongitude = location.longitude\nprint('The geographical coordinate of Douglas are {}, {}.'.format(latitude, longitude))"
        },
        {
            "cell_type": "code",
            "execution_count": 19,
            "metadata": {},
            "outputs": [
                {
                    "data": {
                        "text/html": "<div style=\"width:100%;\"><div style=\"position:relative;width:100%;height:0;padding-bottom:60%;\"><span style=\"color:#565656\">Make this Notebook Trusted to load map: File -> Trust Notebook</span><iframe src=\"about:blank\" style=\"position:absolute;width:100%;height:100%;left:0;top:0;border:none !important;\" data-html=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 onload=\"this.contentDocument.open();this.contentDocument.write(atob(this.getAttribute('data-html')));this.contentDocument.close();\" allowfullscreen webkitallowfullscreen mozallowfullscreen></iframe></div></div>",
                        "text/plain": "<folium.folium.Map at 0x7fe12a4cb7d0>"
                    },
                    "execution_count": 19,
                    "metadata": {},
                    "output_type": "execute_result"
                }
            ],
            "source": "map_douglas = folium.Map(location=[latitude, longitude], zoom_start=6)\n\n\nfor lat, lng, label in zip(douglas['lattitude'], douglas['longitude'], douglas['Neighborhood']):\n    label = folium.Popup(label, parse_html=True)\n    folium.CircleMarker(\n        [lat, lng],\n        radius=5,\n        popup=label,\n        color='blue',\n        fill=True,\n        fill_color='#3186cc',\n        fill_opacity=0.7,\n        parse_html=False).add_to(map_douglas)  \n    \nmap_douglas"
        },
        {
            "cell_type": "markdown",
            "metadata": {},
            "source": "For the next step I will connect to Foursquare to get the information about the venues in the first neighborhood in the list \"South Commons\". After that I will get the data for all the other neighborhoods and put it into one dataframe"
        },
        {
            "cell_type": "code",
            "execution_count": 20,
            "metadata": {},
            "outputs": [
                {
                    "name": "stdout",
                    "output_type": "stream",
                    "text": "Your credentails:\nCLIENT_ID: KKCM3R2MEVSSOYEVYNJ2423YBANRFA0C53RNMVKYSQ3ACZZ3\nCLIENT_SECRET:D13PGQND0YJFVIZMRHMVVGHWIPJ0FDGHUEEJDBQMPWX5F3GD\n"
                }
            ],
            "source": "CLIENT_ID = 'KKCM3R2MEVSSOYEVYNJ2423YBANRFA0C53RNMVKYSQ3ACZZ3' # your Foursquare ID\nCLIENT_SECRET = 'D13PGQND0YJFVIZMRHMVVGHWIPJ0FDGHUEEJDBQMPWX5F3GD' # your Foursquare Secret\nVERSION = '20180605' # Foursquare API version\nLIMIT = 100 # A default Foursquare API limit value\n\nprint('Your credentails:')\nprint('CLIENT_ID: ' + CLIENT_ID)\nprint('CLIENT_SECRET:' + CLIENT_SECRET)"
        },
        {
            "cell_type": "code",
            "execution_count": 21,
            "metadata": {},
            "outputs": [
                {
                    "name": "stdout",
                    "output_type": "stream",
                    "text": "Latitude and longitude values of South Commons are 41.842182, -87.6203.\n"
                }
            ],
            "source": "neighborhood_latitude = douglas.loc[0, 'lattitude'] # neighborhood latitude value\nneighborhood_longitude = douglas.loc[0, 'longitude'] # neighborhood longitude value\n\nneighborhood_name = douglas.loc[0, 'Neighborhood'] # neighborhood name\n\nprint('Latitude and longitude values of {} are {}, {}.'.format(neighborhood_name, \n                                                               neighborhood_latitude, \n                                                               neighborhood_longitude))"
        },
        {
            "cell_type": "code",
            "execution_count": 22,
            "metadata": {},
            "outputs": [
                {
                    "data": {
                        "text/plain": "'https://api.foursquare.com/v2/venues/explore?&client_id=KKCM3R2MEVSSOYEVYNJ2423YBANRFA0C53RNMVKYSQ3ACZZ3&client_secret=D13PGQND0YJFVIZMRHMVVGHWIPJ0FDGHUEEJDBQMPWX5F3GD&v=20180605&ll=41.8421825,-87.6203&radius=500&limit=100'"
                    },
                    "execution_count": 22,
                    "metadata": {},
                    "output_type": "execute_result"
                }
            ],
            "source": "LIMIT = 100 # limit of number of venues returned by Foursquare API\nradius = 500 # define radius\nurl = 'https://api.foursquare.com/v2/venues/explore?&client_id=KKCM3R2MEVSSOYEVYNJ2423YBANRFA0C53RNMVKYSQ3ACZZ3&client_secret=D13PGQND0YJFVIZMRHMVVGHWIPJ0FDGHUEEJDBQMPWX5F3GD&v=20180605&ll=41.8421825,-87.6203&radius=500&limit=100'.format(\n    CLIENT_ID, \n    CLIENT_SECRET, \n    VERSION, \n    neighborhood_latitude, \n    neighborhood_longitude, \n    radius, \n    LIMIT)\nurl"
        },
        {
            "cell_type": "markdown",
            "metadata": {},
            "source": "Before getting the data, I will import necessary libraries"
        },
        {
            "cell_type": "code",
            "execution_count": 23,
            "metadata": {},
            "outputs": [
                {
                    "name": "stdout",
                    "output_type": "stream",
                    "text": "Done\n"
                }
            ],
            "source": "import json\nimport requests # library to handle requests\nfrom pandas.io.json import json_normalize # tranform JSON file into a pandas dataframe\n# Matplotlib and associated plotting modules\nimport matplotlib.cm as cm\nimport matplotlib.colors as colors\n\n# import k-means from clustering stage\nfrom sklearn.cluster import KMeans\nimport numpy as np # library to handle data in a vectorized manner\nprint(\"Done\")"
        },
        {
            "cell_type": "code",
            "execution_count": 24,
            "metadata": {},
            "outputs": [
                {
                    "data": {
                        "text/plain": "{'meta': {'code': 200, 'requestId': '5fca18a1fd895d01ae374a9f'},\n 'response': {'headerLocation': 'Bronzeville',\n  'headerFullLocation': 'Bronzeville, Chicago',\n  'headerLocationGranularity': 'neighborhood',\n  'totalResults': 10,\n  'suggestedBounds': {'ne': {'lat': 41.8466825045, 'lng': -87.61427088264942},\n   'sw': {'lat': 41.8376824955, 'lng': -87.62632911735058}},\n  'groups': [{'type': 'Recommended Places',\n    'name': 'recommended',\n    'items': [{'reasons': {'count': 0,\n       'items': [{'summary': 'This spot is popular',\n         'type': 'general',\n         'reasonName': 'globalInteractionReason'}]},\n      'venue': {'id': '4cda071c22bd721e7554ed47',\n       'name': \"D3: Dre's Diesel Dome\",\n       'location': {'address': '125 E 26th St',\n        'lat': 41.84542028734087,\n        'lng': -87.62288689613342,\n        'labeledLatLngs': [{'label': 'display',\n          'lat': 41.84542028734087,\n          'lng': -87.62288689613342}],\n        'distance': 419,\n        'postalCode': '60616',\n        'cc': 'US',\n        'city': 'Chicago',\n        'state': 'IL',\n        'country': 'United States',\n        'formattedAddress': ['125 E 26th St',\n         'Chicago, IL 60616',\n         'United States']},\n       'categories': [{'id': '4bf58dd8d48988d175941735',\n         'name': 'Gym / Fitness Center',\n         'pluralName': 'Gyms or Fitness Centers',\n         'shortName': 'Gym / Fitness',\n         'icon': {'prefix': 'https://ss3.4sqi.net/img/categories_v2/building/gym_',\n          'suffix': '.png'},\n         'primary': True}],\n       'photos': {'count': 0, 'groups': []}},\n      'referralId': 'e-0-4cda071c22bd721e7554ed47-0'},\n     {'reasons': {'count': 0,\n       'items': [{'summary': 'This spot is popular',\n         'type': 'general',\n         'reasonName': 'globalInteractionReason'}]},\n      'venue': {'id': '4bc08badb492d13ab55ea460',\n       'name': 'Dunbar Park',\n       'location': {'address': '300 E. 31st St.',\n        'lat': 41.84011913017148,\n        'lng': -87.61859211943576,\n        'labeledLatLngs': [{'label': 'display',\n          'lat': 41.84011913017148,\n          'lng': -87.61859211943576}],\n        'distance': 269,\n        'postalCode': '60616',\n        'cc': 'US',\n        'city': 'Chicago',\n        'state': 'IL',\n        'country': 'United States',\n        'formattedAddress': ['300 E. 31st St.',\n         'Chicago, IL 60616',\n         'United States']},\n       'categories': [{'id': '4bf58dd8d48988d163941735',\n         'name': 'Park',\n         'pluralName': 'Parks',\n         'shortName': 'Park',\n         'icon': {'prefix': 'https://ss3.4sqi.net/img/categories_v2/parks_outdoors/park_',\n          'suffix': '.png'},\n         'primary': True}],\n       'photos': {'count': 0, 'groups': []}},\n      'referralId': 'e-0-4bc08badb492d13ab55ea460-1'},\n     {'reasons': {'count': 0,\n       'items': [{'summary': 'This spot is popular',\n         'type': 'general',\n         'reasonName': 'globalInteractionReason'}]},\n      'venue': {'id': '59f83e7c1213846ef0122035',\n       'name': 'Switch Harrisburg',\n       'location': {'address': '470 Friendship Rd #160',\n        'lat': 41.84321429189286,\n        'lng': -87.6183496043086,\n        'labeledLatLngs': [{'label': 'display',\n          'lat': 41.84321429189286,\n          'lng': -87.6183496043086}],\n        'distance': 198,\n        'postalCode': '17111',\n        'cc': 'US',\n        'city': 'Harrisburg',\n        'state': 'PA',\n        'country': 'United States',\n        'formattedAddress': ['470 Friendship Rd #160',\n         'Harrisburg, PA 17111',\n         'United States']},\n       'categories': [{'id': '5453de49498eade8af355881',\n         'name': 'Business Service',\n         'pluralName': 'Business Services',\n         'shortName': 'Business Services',\n         'icon': {'prefix': 'https://ss3.4sqi.net/img/categories_v2/building/default_',\n          'suffix': '.png'},\n         'primary': True}],\n       'photos': {'count': 0, 'groups': []}},\n      'referralId': 'e-0-59f83e7c1213846ef0122035-2'},\n     {'reasons': {'count': 0,\n       'items': [{'summary': 'This spot is popular',\n         'type': 'general',\n         'reasonName': 'globalInteractionReason'}]},\n      'venue': {'id': '4d3f0bf9af8ca1438cd41bf7',\n       'name': 'Enterprise Rent-A-Car',\n       'location': {'address': '2640 S Michigan Ave',\n        'lat': 41.844479173159336,\n        'lng': -87.62389540672302,\n        'labeledLatLngs': [{'label': 'display',\n          'lat': 41.844479173159336,\n          'lng': -87.62389540672302},\n         {'label': 'entrance', 'lat': 41.844454, 'lng': -87.623818}],\n        'distance': 392,\n        'postalCode': '60616',\n        'cc': 'US',\n        'city': 'Chicago',\n        'state': 'IL',\n        'country': 'United States',\n        'formattedAddress': ['2640 S Michigan Ave',\n         'Chicago, IL 60616',\n         'United States']},\n       'categories': [{'id': '4bf58dd8d48988d1ef941735',\n         'name': 'Rental Car Location',\n         'pluralName': 'Rental Car Locations',\n         'shortName': 'Rental Car',\n         'icon': {'prefix': 'https://ss3.4sqi.net/img/categories_v2/shops/airport_rentalcar_',\n          'suffix': '.png'},\n         'primary': True}],\n       'photos': {'count': 0, 'groups': []}},\n      'referralId': 'e-0-4d3f0bf9af8ca1438cd41bf7-3'},\n     {'reasons': {'count': 0,\n       'items': [{'summary': 'This spot is popular',\n         'type': 'general',\n         'reasonName': 'globalInteractionReason'}]},\n      'venue': {'id': '5c8ca9284b78c500398b2e6e',\n       'name': \"Wesley's  Electric\",\n       'location': {'address': '2801 S King Dr',\n        'lat': 41.84407,\n        'lng': -87.61645,\n        'labeledLatLngs': [{'label': 'display',\n          'lat': 41.84407,\n          'lng': -87.61645}],\n        'distance': 382,\n        'postalCode': '60616',\n        'cc': 'US',\n        'city': 'Chicago',\n        'state': 'IL',\n        'country': 'United States',\n        'formattedAddress': ['2801 S King Dr',\n         'Chicago, IL 60616',\n         'United States']},\n       'categories': [{'id': '5454144b498ec1f095bff2f2',\n         'name': 'Construction & Landscaping',\n         'pluralName': 'Construction & Landscaping',\n         'shortName': 'Construction',\n         'icon': {'prefix': 'https://ss3.4sqi.net/img/categories_v2/shops/realestate_',\n          'suffix': '.png'},\n         'primary': True}],\n       'photos': {'count': 0, 'groups': []}},\n      'referralId': 'e-0-5c8ca9284b78c500398b2e6e-4'},\n     {'reasons': {'count': 0,\n       'items': [{'summary': 'This spot is popular',\n         'type': 'general',\n         'reasonName': 'globalInteractionReason'}]},\n      'venue': {'id': '4e358dd4a8092599ee05f0ce',\n       'name': 'Lake Meadows Park',\n       'location': {'address': '3117 S Rhodes Ave',\n        'lat': 41.840037367809515,\n        'lng': -87.61599321448656,\n        'labeledLatLngs': [{'label': 'display',\n          'lat': 41.840037367809515,\n          'lng': -87.61599321448656}],\n        'distance': 429,\n        'postalCode': '60616',\n        'cc': 'US',\n        'city': 'Chicago',\n        'state': 'IL',\n        'country': 'United States',\n        'formattedAddress': ['3117 S Rhodes Ave',\n         'Chicago, IL 60616',\n         'United States']},\n       'categories': [{'id': '4bf58dd8d48988d163941735',\n         'name': 'Park',\n         'pluralName': 'Parks',\n         'shortName': 'Park',\n         'icon': {'prefix': 'https://ss3.4sqi.net/img/categories_v2/parks_outdoors/park_',\n          'suffix': '.png'},\n         'primary': True}],\n       'photos': {'count': 0, 'groups': []}},\n      'referralId': 'e-0-4e358dd4a8092599ee05f0ce-5'},\n     {'reasons': {'count': 0,\n       'items': [{'summary': 'This spot is popular',\n         'type': 'general',\n         'reasonName': 'globalInteractionReason'}]},\n      'venue': {'id': '507478c6e4b0cfa634897f51',\n       'name': 'Lake Meadows shopping mall',\n       'location': {'address': '445 E. 35 St',\n        'crossStreet': 'Martin Luther King Drive',\n        'lat': 41.84000910100123,\n        'lng': -87.61595057911266,\n        'labeledLatLngs': [{'label': 'display',\n          'lat': 41.84000910100123,\n          'lng': -87.61595057911266}],\n        'distance': 434,\n        'postalCode': '60653',\n        'cc': 'US',\n        'neighborhood': 'Bronzeville',\n        'city': 'Chicago',\n        'state': 'IL',\n        'country': 'United States',\n        'formattedAddress': ['445 E. 35 St (Martin Luther King Drive)',\n         'Chicago, IL 60653',\n         'United States']},\n       'categories': [{'id': '4bf58dd8d48988d1fd941735',\n         'name': 'Shopping Mall',\n         'pluralName': 'Shopping Malls',\n         'shortName': 'Mall',\n         'icon': {'prefix': 'https://ss3.4sqi.net/img/categories_v2/shops/mall_',\n          'suffix': '.png'},\n         'primary': True}],\n       'photos': {'count': 0, 'groups': []}},\n      'referralId': 'e-0-507478c6e4b0cfa634897f51-6'},\n     {'reasons': {'count': 0,\n       'items': [{'summary': 'This spot is popular',\n         'type': 'general',\n         'reasonName': 'globalInteractionReason'}]},\n      'venue': {'id': '5af6e5fe7dc9e1002c9fe227',\n       'name': 'the well',\n       'location': {'address': '2635 S Wabash Ave',\n        'lat': 41.844457,\n        'lng': -87.624827,\n        'labeledLatLngs': [{'label': 'display',\n          'lat': 41.844457,\n          'lng': -87.624827},\n         {'label': 'entrance', 'lat': 41.844394, 'lng': -87.625175}],\n        'distance': 452,\n        'postalCode': '60616',\n        'cc': 'US',\n        'city': 'Chicago',\n        'state': 'IL',\n        'country': 'United States',\n        'formattedAddress': ['2635 S Wabash Ave',\n         'Chicago, IL 60616',\n         'United States']},\n       'categories': [{'id': '4bf58dd8d48988d175941735',\n         'name': 'Gym / Fitness Center',\n         'pluralName': 'Gyms or Fitness Centers',\n         'shortName': 'Gym / Fitness',\n         'icon': {'prefix': 'https://ss3.4sqi.net/img/categories_v2/building/gym_',\n          'suffix': '.png'},\n         'primary': True}],\n       'photos': {'count': 0, 'groups': []}},\n      'referralId': 'e-0-5af6e5fe7dc9e1002c9fe227-7'},\n     {'reasons': {'count': 0,\n       'items': [{'summary': 'This spot is popular',\n         'type': 'general',\n         'reasonName': 'globalInteractionReason'}]},\n      'venue': {'id': '4d50d7e43626a0933aa71ebd',\n       'name': '24 Hour Gym',\n       'location': {'address': '3001 S King Dr',\n        'lat': 41.83921813964844,\n        'lng': -87.61631774902344,\n        'labeledLatLngs': [{'label': 'display',\n          'lat': 41.83921813964844,\n          'lng': -87.61631774902344}],\n        'distance': 466,\n        'postalCode': '60616',\n        'cc': 'US',\n        'city': 'Chicago',\n        'state': 'IL',\n        'country': 'United States',\n        'formattedAddress': ['3001 S King Dr',\n         'Chicago, IL 60616',\n         'United States']},\n       'categories': [{'id': '4bf58dd8d48988d175941735',\n         'name': 'Gym / Fitness Center',\n         'pluralName': 'Gyms or Fitness Centers',\n         'shortName': 'Gym / Fitness',\n         'icon': {'prefix': 'https://ss3.4sqi.net/img/categories_v2/building/gym_',\n          'suffix': '.png'},\n         'primary': True}],\n       'photos': {'count': 0, 'groups': []}},\n      'referralId': 'e-0-4d50d7e43626a0933aa71ebd-8'},\n     {'reasons': {'count': 0,\n       'items': [{'summary': 'This spot is popular',\n         'type': 'general',\n         'reasonName': 'globalInteractionReason'}]},\n      'venue': {'id': '4f0648f2f9ab6dd034cc5763',\n       'name': 'king drive and 30th street',\n       'location': {'lat': 41.839089650046795,\n        'lng': -87.61607280388712,\n        'labeledLatLngs': [{'label': 'display',\n          'lat': 41.839089650046795,\n          'lng': -87.61607280388712}],\n        'distance': 491,\n        'postalCode': '60616',\n        'cc': 'US',\n        'city': 'Chicago',\n        'state': 'IL',\n        'country': 'United States',\n        'formattedAddress': ['Chicago, IL 60616', 'United States']},\n       'categories': [{'id': '4bf58dd8d48988d1fe931735',\n         'name': 'Bus Station',\n         'pluralName': 'Bus Stations',\n         'shortName': 'Bus Station',\n         'icon': {'prefix': 'https://ss3.4sqi.net/img/categories_v2/travel/busstation_',\n          'suffix': '.png'},\n         'primary': True}],\n       'photos': {'count': 0, 'groups': []}},\n      'referralId': 'e-0-4f0648f2f9ab6dd034cc5763-9'}]}]}}"
                    },
                    "execution_count": 24,
                    "metadata": {},
                    "output_type": "execute_result"
                }
            ],
            "source": "results = requests.get(url).json()\nresults"
        },
        {
            "cell_type": "code",
            "execution_count": 25,
            "metadata": {},
            "outputs": [],
            "source": "# function that extracts the category of the venue\ndef get_category_type(row):\n    try:\n        categories_list = row['categories']\n    except:\n        categories_list = row['venue.categories']\n        \n    if len(categories_list) == 0:\n        return None\n    else:\n        return categories_list[0]['name']"
        },
        {
            "cell_type": "code",
            "execution_count": 26,
            "metadata": {},
            "outputs": [
                {
                    "name": "stderr",
                    "output_type": "stream",
                    "text": "/opt/conda/envs/Python-3.7-main/lib/python3.7/site-packages/ipykernel/__main__.py:3: FutureWarning: pandas.io.json.json_normalize is deprecated, use pandas.json_normalize instead\n  app.launch_new_instance()\n"
                },
                {
                    "data": {
                        "text/html": "<div>\n<style scoped>\n    .dataframe tbody tr th:only-of-type {\n        vertical-align: middle;\n    }\n\n    .dataframe tbody tr th {\n        vertical-align: top;\n    }\n\n    .dataframe thead th {\n        text-align: right;\n    }\n</style>\n<table border=\"1\" class=\"dataframe\">\n  <thead>\n    <tr style=\"text-align: right;\">\n      <th></th>\n      <th>name</th>\n      <th>categories</th>\n      <th>lat</th>\n      <th>lng</th>\n    </tr>\n  </thead>\n  <tbody>\n    <tr>\n      <th>0</th>\n      <td>D3: Dre's Diesel Dome</td>\n      <td>Gym / Fitness Center</td>\n      <td>41.845420</td>\n      <td>-87.622887</td>\n    </tr>\n    <tr>\n      <th>1</th>\n      <td>Dunbar Park</td>\n      <td>Park</td>\n      <td>41.840119</td>\n      <td>-87.618592</td>\n    </tr>\n    <tr>\n      <th>2</th>\n      <td>Switch Harrisburg</td>\n      <td>Business Service</td>\n      <td>41.843214</td>\n      <td>-87.618350</td>\n    </tr>\n    <tr>\n      <th>3</th>\n      <td>Enterprise Rent-A-Car</td>\n      <td>Rental Car Location</td>\n      <td>41.844479</td>\n      <td>-87.623895</td>\n    </tr>\n    <tr>\n      <th>4</th>\n      <td>Wesley's  Electric</td>\n      <td>Construction &amp; Landscaping</td>\n      <td>41.844070</td>\n      <td>-87.616450</td>\n    </tr>\n  </tbody>\n</table>\n</div>",
                        "text/plain": "                    name                  categories        lat        lng\n0  D3: Dre's Diesel Dome        Gym / Fitness Center  41.845420 -87.622887\n1            Dunbar Park                        Park  41.840119 -87.618592\n2      Switch Harrisburg            Business Service  41.843214 -87.618350\n3  Enterprise Rent-A-Car         Rental Car Location  41.844479 -87.623895\n4     Wesley's  Electric  Construction & Landscaping  41.844070 -87.616450"
                    },
                    "execution_count": 26,
                    "metadata": {},
                    "output_type": "execute_result"
                }
            ],
            "source": "venues = results['response']['groups'][0]['items']\n    \nnearby_venues = json_normalize(venues) # flatten JSON\n\n# filter columns\nfiltered_columns = ['venue.name', 'venue.categories', 'venue.location.lat', 'venue.location.lng']\nnearby_venues =nearby_venues.loc[:, filtered_columns]\n\n# filter the category for each row\nnearby_venues['venue.categories'] = nearby_venues.apply(get_category_type, axis=1)\n\n# clean columns\nnearby_venues.columns = [col.split(\".\")[-1] for col in nearby_venues.columns]\n\nnearby_venues.head()"
        },
        {
            "cell_type": "code",
            "execution_count": 27,
            "metadata": {},
            "outputs": [],
            "source": "def getNearbyVenues(names, latitudes, longitudes, radius=500):\n    \n    venues_list=[]\n    for name, lat, lng in zip(names, latitudes, longitudes):\n        print(name)\n            \n        # create the API request URL\n        url = 'https://api.foursquare.com/v2/venues/explore?&client_id={}&client_secret={}&v={}&ll={},{}&radius={}&limit={}'.format(\n            CLIENT_ID, \n            CLIENT_SECRET, \n            VERSION, \n            lat, \n            lng, \n            radius, \n            LIMIT)\n            \n        # make the GET request\n        results = requests.get(url).json()[\"response\"]['groups'][0]['items']\n        \n        # return only relevant information for each nearby venue\n        venues_list.append([(\n            name, \n            lat, \n            lng, \n            v['venue']['name'], \n            v['venue']['location']['lat'], \n            v['venue']['location']['lng'],  \n            v['venue']['categories'][0]['name']) for v in results])\n\n    nearby_venues = pd.DataFrame([item for venue_list in venues_list for item in venue_list])\n    nearby_venues.columns = ['Neighborhood', \n                  'Neighborhood Latitude', \n                  'Neighborhood Longitude', \n                  'Venue', \n                  'Venue Latitude', \n                  'Venue Longitude', \n                  'Venue Category']\n    \n    return(nearby_venues)"
        },
        {
            "cell_type": "code",
            "execution_count": 28,
            "metadata": {},
            "outputs": [
                {
                    "name": "stdout",
                    "output_type": "stream",
                    "text": "South Commons\nPrairie Shores\nLake Meadows\nBronzeville\nStateway Gardens\nGroveland Park\nThe Gap\nDearborn Homes\n"
                }
            ],
            "source": "douglas_venues = getNearbyVenues(names=douglas['Neighborhood'],\n                                   latitudes=douglas['lattitude'],\n                                   longitudes=douglas['longitude']\n                                  )"
        },
        {
            "cell_type": "code",
            "execution_count": 31,
            "metadata": {},
            "outputs": [
                {
                    "name": "stdout",
                    "output_type": "stream",
                    "text": "(136, 7)\n"
                },
                {
                    "data": {
                        "text/html": "<div>\n<style scoped>\n    .dataframe tbody tr th:only-of-type {\n        vertical-align: middle;\n    }\n\n    .dataframe tbody tr th {\n        vertical-align: top;\n    }\n\n    .dataframe thead th {\n        text-align: right;\n    }\n</style>\n<table border=\"1\" class=\"dataframe\">\n  <thead>\n    <tr style=\"text-align: right;\">\n      <th></th>\n      <th>Neighborhood</th>\n      <th>Neighborhood Latitude</th>\n      <th>Neighborhood Longitude</th>\n      <th>Venue</th>\n      <th>Venue Latitude</th>\n      <th>Venue Longitude</th>\n      <th>Venue Category</th>\n    </tr>\n  </thead>\n  <tbody>\n    <tr>\n      <th>0</th>\n      <td>South Commons</td>\n      <td>41.842182</td>\n      <td>-87.6203</td>\n      <td>D3: Dre's Diesel Dome</td>\n      <td>41.845420</td>\n      <td>-87.622887</td>\n      <td>Gym / Fitness Center</td>\n    </tr>\n    <tr>\n      <th>1</th>\n      <td>South Commons</td>\n      <td>41.842182</td>\n      <td>-87.6203</td>\n      <td>Dunbar Park</td>\n      <td>41.840119</td>\n      <td>-87.618592</td>\n      <td>Park</td>\n    </tr>\n    <tr>\n      <th>2</th>\n      <td>South Commons</td>\n      <td>41.842182</td>\n      <td>-87.6203</td>\n      <td>Switch Harrisburg</td>\n      <td>41.843214</td>\n      <td>-87.618350</td>\n      <td>Business Service</td>\n    </tr>\n    <tr>\n      <th>3</th>\n      <td>South Commons</td>\n      <td>41.842182</td>\n      <td>-87.6203</td>\n      <td>Enterprise Rent-A-Car</td>\n      <td>41.844479</td>\n      <td>-87.623895</td>\n      <td>Rental Car Location</td>\n    </tr>\n    <tr>\n      <th>4</th>\n      <td>South Commons</td>\n      <td>41.842182</td>\n      <td>-87.6203</td>\n      <td>Wesley's  Electric</td>\n      <td>41.844070</td>\n      <td>-87.616450</td>\n      <td>Construction &amp; Landscaping</td>\n    </tr>\n  </tbody>\n</table>\n</div>",
                        "text/plain": "    Neighborhood  Neighborhood Latitude  Neighborhood Longitude  \\\n0  South Commons              41.842182                -87.6203   \n1  South Commons              41.842182                -87.6203   \n2  South Commons              41.842182                -87.6203   \n3  South Commons              41.842182                -87.6203   \n4  South Commons              41.842182                -87.6203   \n\n                   Venue  Venue Latitude  Venue Longitude  \\\n0  D3: Dre's Diesel Dome       41.845420       -87.622887   \n1            Dunbar Park       41.840119       -87.618592   \n2      Switch Harrisburg       41.843214       -87.618350   \n3  Enterprise Rent-A-Car       41.844479       -87.623895   \n4     Wesley's  Electric       41.844070       -87.616450   \n\n               Venue Category  \n0        Gym / Fitness Center  \n1                        Park  \n2            Business Service  \n3         Rental Car Location  \n4  Construction & Landscaping  "
                    },
                    "execution_count": 31,
                    "metadata": {},
                    "output_type": "execute_result"
                }
            ],
            "source": "print(douglas_venues.shape)\ndouglas_venues.head()"
        },
        {
            "cell_type": "markdown",
            "metadata": {},
            "source": "Now we have an important piece of information in the format of the pandas dataframe, the venues of the Douglas community area and their categories, which will be vital for the analysis and the decision making <br>\nNow I will group the information by neighborhoods and then calculate how many unique categories we have"
        },
        {
            "cell_type": "code",
            "execution_count": 32,
            "metadata": {},
            "outputs": [
                {
                    "data": {
                        "text/html": "<div>\n<style scoped>\n    .dataframe tbody tr th:only-of-type {\n        vertical-align: middle;\n    }\n\n    .dataframe tbody tr th {\n        vertical-align: top;\n    }\n\n    .dataframe thead th {\n        text-align: right;\n    }\n</style>\n<table border=\"1\" class=\"dataframe\">\n  <thead>\n    <tr style=\"text-align: right;\">\n      <th></th>\n      <th>Neighborhood Latitude</th>\n      <th>Neighborhood Longitude</th>\n      <th>Venue</th>\n      <th>Venue Latitude</th>\n      <th>Venue Longitude</th>\n      <th>Venue Category</th>\n    </tr>\n    <tr>\n      <th>Neighborhood</th>\n      <th></th>\n      <th></th>\n      <th></th>\n      <th></th>\n      <th></th>\n      <th></th>\n    </tr>\n  </thead>\n  <tbody>\n    <tr>\n      <th>Bronzeville</th>\n      <td>11</td>\n      <td>11</td>\n      <td>11</td>\n      <td>11</td>\n      <td>11</td>\n      <td>11</td>\n    </tr>\n    <tr>\n      <th>Dearborn Homes</th>\n      <td>15</td>\n      <td>15</td>\n      <td>15</td>\n      <td>15</td>\n      <td>15</td>\n      <td>15</td>\n    </tr>\n    <tr>\n      <th>Groveland Park</th>\n      <td>12</td>\n      <td>12</td>\n      <td>12</td>\n      <td>12</td>\n      <td>12</td>\n      <td>12</td>\n    </tr>\n    <tr>\n      <th>Lake Meadows</th>\n      <td>21</td>\n      <td>21</td>\n      <td>21</td>\n      <td>21</td>\n      <td>21</td>\n      <td>21</td>\n    </tr>\n    <tr>\n      <th>Prairie Shores</th>\n      <td>8</td>\n      <td>8</td>\n      <td>8</td>\n      <td>8</td>\n      <td>8</td>\n      <td>8</td>\n    </tr>\n    <tr>\n      <th>South Commons</th>\n      <td>10</td>\n      <td>10</td>\n      <td>10</td>\n      <td>10</td>\n      <td>10</td>\n      <td>10</td>\n    </tr>\n    <tr>\n      <th>Stateway Gardens</th>\n      <td>24</td>\n      <td>24</td>\n      <td>24</td>\n      <td>24</td>\n      <td>24</td>\n      <td>24</td>\n    </tr>\n    <tr>\n      <th>The Gap</th>\n      <td>35</td>\n      <td>35</td>\n      <td>35</td>\n      <td>35</td>\n      <td>35</td>\n      <td>35</td>\n    </tr>\n  </tbody>\n</table>\n</div>",
                        "text/plain": "                  Neighborhood Latitude  Neighborhood Longitude  Venue  \\\nNeighborhood                                                             \nBronzeville                          11                      11     11   \nDearborn Homes                       15                      15     15   \nGroveland Park                       12                      12     12   \nLake Meadows                         21                      21     21   \nPrairie Shores                        8                       8      8   \nSouth Commons                        10                      10     10   \nStateway Gardens                     24                      24     24   \nThe Gap                              35                      35     35   \n\n                  Venue Latitude  Venue Longitude  Venue Category  \nNeighborhood                                                       \nBronzeville                   11               11              11  \nDearborn Homes                15               15              15  \nGroveland Park                12               12              12  \nLake Meadows                  21               21              21  \nPrairie Shores                 8                8               8  \nSouth Commons                 10               10              10  \nStateway Gardens              24               24              24  \nThe Gap                       35               35              35  "
                    },
                    "execution_count": 32,
                    "metadata": {},
                    "output_type": "execute_result"
                }
            ],
            "source": "douglas_venues.groupby('Neighborhood').count()"
        },
        {
            "cell_type": "code",
            "execution_count": 33,
            "metadata": {},
            "outputs": [
                {
                    "name": "stdout",
                    "output_type": "stream",
                    "text": "There are 61 uniques categories.\n"
                }
            ],
            "source": "print('There are {} uniques categories.'.format(len(douglas_venues['Venue Category'].unique())))"
        },
        {
            "cell_type": "markdown",
            "metadata": {},
            "source": "Now let's modify the dataframe for better visualization and first get the top 5 venues by the neighborhood and finally top 10 most common venue categories by the neighborhood"
        },
        {
            "cell_type": "code",
            "execution_count": 34,
            "metadata": {},
            "outputs": [
                {
                    "data": {
                        "text/html": "<div>\n<style scoped>\n    .dataframe tbody tr th:only-of-type {\n        vertical-align: middle;\n    }\n\n    .dataframe tbody tr th {\n        vertical-align: top;\n    }\n\n    .dataframe thead th {\n        text-align: right;\n    }\n</style>\n<table border=\"1\" class=\"dataframe\">\n  <thead>\n    <tr style=\"text-align: right;\">\n      <th></th>\n      <th>Neighborhood</th>\n      <th>African Restaurant</th>\n      <th>Art Gallery</th>\n      <th>Asian Restaurant</th>\n      <th>Athletics &amp; Sports</th>\n      <th>Bakery</th>\n      <th>Bank</th>\n      <th>Bar</th>\n      <th>Baseball Field</th>\n      <th>Baseball Stadium</th>\n      <th>...</th>\n      <th>Snack Place</th>\n      <th>Soccer Field</th>\n      <th>Southern / Soul Food Restaurant</th>\n      <th>Sports Bar</th>\n      <th>Storage Facility</th>\n      <th>Supermarket</th>\n      <th>Tennis Court</th>\n      <th>Train Station</th>\n      <th>Video Store</th>\n      <th>Wings Joint</th>\n    </tr>\n  </thead>\n  <tbody>\n    <tr>\n      <th>0</th>\n      <td>South Commons</td>\n      <td>0</td>\n      <td>0</td>\n      <td>0</td>\n      <td>0</td>\n      <td>0</td>\n      <td>0</td>\n      <td>0</td>\n      <td>0</td>\n      <td>0</td>\n      <td>...</td>\n      <td>0</td>\n      <td>0</td>\n      <td>0</td>\n      <td>0</td>\n      <td>0</td>\n      <td>0</td>\n      <td>0</td>\n      <td>0</td>\n      <td>0</td>\n      <td>0</td>\n    </tr>\n    <tr>\n      <th>1</th>\n      <td>South Commons</td>\n      <td>0</td>\n      <td>0</td>\n      <td>0</td>\n      <td>0</td>\n      <td>0</td>\n      <td>0</td>\n      <td>0</td>\n      <td>0</td>\n      <td>0</td>\n      <td>...</td>\n      <td>0</td>\n      <td>0</td>\n      <td>0</td>\n      <td>0</td>\n      <td>0</td>\n      <td>0</td>\n      <td>0</td>\n      <td>0</td>\n      <td>0</td>\n      <td>0</td>\n    </tr>\n    <tr>\n      <th>2</th>\n      <td>South Commons</td>\n      <td>0</td>\n      <td>0</td>\n      <td>0</td>\n      <td>0</td>\n      <td>0</td>\n      <td>0</td>\n      <td>0</td>\n      <td>0</td>\n      <td>0</td>\n      <td>...</td>\n      <td>0</td>\n      <td>0</td>\n      <td>0</td>\n      <td>0</td>\n      <td>0</td>\n      <td>0</td>\n      <td>0</td>\n      <td>0</td>\n      <td>0</td>\n      <td>0</td>\n    </tr>\n    <tr>\n      <th>3</th>\n      <td>South Commons</td>\n      <td>0</td>\n      <td>0</td>\n      <td>0</td>\n      <td>0</td>\n      <td>0</td>\n      <td>0</td>\n      <td>0</td>\n      <td>0</td>\n      <td>0</td>\n      <td>...</td>\n      <td>0</td>\n      <td>0</td>\n      <td>0</td>\n      <td>0</td>\n      <td>0</td>\n      <td>0</td>\n      <td>0</td>\n      <td>0</td>\n      <td>0</td>\n      <td>0</td>\n    </tr>\n    <tr>\n      <th>4</th>\n      <td>South Commons</td>\n      <td>0</td>\n      <td>0</td>\n      <td>0</td>\n      <td>0</td>\n      <td>0</td>\n      <td>0</td>\n      <td>0</td>\n      <td>0</td>\n      <td>0</td>\n      <td>...</td>\n      <td>0</td>\n      <td>0</td>\n      <td>0</td>\n      <td>0</td>\n      <td>0</td>\n      <td>0</td>\n      <td>0</td>\n      <td>0</td>\n      <td>0</td>\n      <td>0</td>\n    </tr>\n  </tbody>\n</table>\n<p>5 rows \u00d7 62 columns</p>\n</div>",
                        "text/plain": "    Neighborhood  African Restaurant  Art Gallery  Asian Restaurant  \\\n0  South Commons                   0            0                 0   \n1  South Commons                   0            0                 0   \n2  South Commons                   0            0                 0   \n3  South Commons                   0            0                 0   \n4  South Commons                   0            0                 0   \n\n   Athletics & Sports  Bakery  Bank  Bar  Baseball Field  Baseball Stadium  \\\n0                   0       0     0    0               0                 0   \n1                   0       0     0    0               0                 0   \n2                   0       0     0    0               0                 0   \n3                   0       0     0    0               0                 0   \n4                   0       0     0    0               0                 0   \n\n   ...  Snack Place  Soccer Field  Southern / Soul Food Restaurant  \\\n0  ...            0             0                                0   \n1  ...            0             0                                0   \n2  ...            0             0                                0   \n3  ...            0             0                                0   \n4  ...            0             0                                0   \n\n   Sports Bar  Storage Facility  Supermarket  Tennis Court  Train Station  \\\n0           0                 0            0             0              0   \n1           0                 0            0             0              0   \n2           0                 0            0             0              0   \n3           0                 0            0             0              0   \n4           0                 0            0             0              0   \n\n   Video Store  Wings Joint  \n0            0            0  \n1            0            0  \n2            0            0  \n3            0            0  \n4            0            0  \n\n[5 rows x 62 columns]"
                    },
                    "execution_count": 34,
                    "metadata": {},
                    "output_type": "execute_result"
                }
            ],
            "source": "# one hot encoding\ndouglas_onehot = pd.get_dummies(douglas_venues[['Venue Category']], prefix=\"\", prefix_sep=\"\")\n\n# add neighborhood column back to dataframe\ndouglas_onehot['Neighborhood'] = douglas_venues['Neighborhood'] \n\n# move neighborhood column to the first column\nfixed_columns = [douglas_onehot.columns[-1]] + list(douglas_onehot.columns[:-1])\ndouglas_onehot = douglas_onehot[fixed_columns]\n\ndouglas_onehot.head()"
        },
        {
            "cell_type": "code",
            "execution_count": 35,
            "metadata": {},
            "outputs": [
                {
                    "data": {
                        "text/plain": "(136, 62)"
                    },
                    "execution_count": 35,
                    "metadata": {},
                    "output_type": "execute_result"
                }
            ],
            "source": "douglas_onehot.shape"
        },
        {
            "cell_type": "code",
            "execution_count": 36,
            "metadata": {},
            "outputs": [
                {
                    "data": {
                        "text/html": "<div>\n<style scoped>\n    .dataframe tbody tr th:only-of-type {\n        vertical-align: middle;\n    }\n\n    .dataframe tbody tr th {\n        vertical-align: top;\n    }\n\n    .dataframe thead th {\n        text-align: right;\n    }\n</style>\n<table border=\"1\" class=\"dataframe\">\n  <thead>\n    <tr style=\"text-align: right;\">\n      <th></th>\n      <th>Neighborhood</th>\n      <th>African Restaurant</th>\n      <th>Art Gallery</th>\n      <th>Asian Restaurant</th>\n      <th>Athletics &amp; Sports</th>\n      <th>Bakery</th>\n      <th>Bank</th>\n      <th>Bar</th>\n      <th>Baseball Field</th>\n      <th>Baseball Stadium</th>\n      <th>...</th>\n      <th>Snack Place</th>\n      <th>Soccer Field</th>\n      <th>Southern / Soul Food Restaurant</th>\n      <th>Sports Bar</th>\n      <th>Storage Facility</th>\n      <th>Supermarket</th>\n      <th>Tennis Court</th>\n      <th>Train Station</th>\n      <th>Video Store</th>\n      <th>Wings Joint</th>\n    </tr>\n  </thead>\n  <tbody>\n    <tr>\n      <th>0</th>\n      <td>Bronzeville</td>\n      <td>0.000000</td>\n      <td>0.090909</td>\n      <td>0.000000</td>\n      <td>0.090909</td>\n      <td>0.000000</td>\n      <td>0.000000</td>\n      <td>0.000000</td>\n      <td>0.000000</td>\n      <td>0.000000</td>\n      <td>...</td>\n      <td>0.000000</td>\n      <td>0.000000</td>\n      <td>0.090909</td>\n      <td>0.000000</td>\n      <td>0.000000</td>\n      <td>0.000000</td>\n      <td>0.000000</td>\n      <td>0.090909</td>\n      <td>0.000000</td>\n      <td>0.000000</td>\n    </tr>\n    <tr>\n      <th>1</th>\n      <td>Dearborn Homes</td>\n      <td>0.000000</td>\n      <td>0.000000</td>\n      <td>0.066667</td>\n      <td>0.000000</td>\n      <td>0.066667</td>\n      <td>0.000000</td>\n      <td>0.000000</td>\n      <td>0.000000</td>\n      <td>0.000000</td>\n      <td>...</td>\n      <td>0.000000</td>\n      <td>0.066667</td>\n      <td>0.000000</td>\n      <td>0.000000</td>\n      <td>0.066667</td>\n      <td>0.000000</td>\n      <td>0.000000</td>\n      <td>0.000000</td>\n      <td>0.000000</td>\n      <td>0.000000</td>\n    </tr>\n    <tr>\n      <th>2</th>\n      <td>Groveland Park</td>\n      <td>0.000000</td>\n      <td>0.000000</td>\n      <td>0.000000</td>\n      <td>0.000000</td>\n      <td>0.000000</td>\n      <td>0.000000</td>\n      <td>0.000000</td>\n      <td>0.000000</td>\n      <td>0.000000</td>\n      <td>...</td>\n      <td>0.000000</td>\n      <td>0.000000</td>\n      <td>0.000000</td>\n      <td>0.000000</td>\n      <td>0.000000</td>\n      <td>0.083333</td>\n      <td>0.083333</td>\n      <td>0.000000</td>\n      <td>0.000000</td>\n      <td>0.083333</td>\n    </tr>\n    <tr>\n      <th>3</th>\n      <td>Lake Meadows</td>\n      <td>0.000000</td>\n      <td>0.000000</td>\n      <td>0.000000</td>\n      <td>0.000000</td>\n      <td>0.000000</td>\n      <td>0.000000</td>\n      <td>0.000000</td>\n      <td>0.000000</td>\n      <td>0.000000</td>\n      <td>...</td>\n      <td>0.000000</td>\n      <td>0.000000</td>\n      <td>0.000000</td>\n      <td>0.000000</td>\n      <td>0.000000</td>\n      <td>0.047619</td>\n      <td>0.000000</td>\n      <td>0.000000</td>\n      <td>0.047619</td>\n      <td>0.047619</td>\n    </tr>\n    <tr>\n      <th>4</th>\n      <td>Prairie Shores</td>\n      <td>0.000000</td>\n      <td>0.000000</td>\n      <td>0.000000</td>\n      <td>0.125000</td>\n      <td>0.000000</td>\n      <td>0.000000</td>\n      <td>0.000000</td>\n      <td>0.000000</td>\n      <td>0.000000</td>\n      <td>...</td>\n      <td>0.000000</td>\n      <td>0.000000</td>\n      <td>0.000000</td>\n      <td>0.000000</td>\n      <td>0.000000</td>\n      <td>0.000000</td>\n      <td>0.000000</td>\n      <td>0.125000</td>\n      <td>0.000000</td>\n      <td>0.000000</td>\n    </tr>\n    <tr>\n      <th>5</th>\n      <td>South Commons</td>\n      <td>0.000000</td>\n      <td>0.000000</td>\n      <td>0.000000</td>\n      <td>0.000000</td>\n      <td>0.000000</td>\n      <td>0.000000</td>\n      <td>0.000000</td>\n      <td>0.000000</td>\n      <td>0.000000</td>\n      <td>...</td>\n      <td>0.000000</td>\n      <td>0.000000</td>\n      <td>0.000000</td>\n      <td>0.000000</td>\n      <td>0.000000</td>\n      <td>0.000000</td>\n      <td>0.000000</td>\n      <td>0.000000</td>\n      <td>0.000000</td>\n      <td>0.000000</td>\n    </tr>\n    <tr>\n      <th>6</th>\n      <td>Stateway Gardens</td>\n      <td>0.000000</td>\n      <td>0.000000</td>\n      <td>0.000000</td>\n      <td>0.041667</td>\n      <td>0.000000</td>\n      <td>0.041667</td>\n      <td>0.041667</td>\n      <td>0.041667</td>\n      <td>0.291667</td>\n      <td>...</td>\n      <td>0.041667</td>\n      <td>0.000000</td>\n      <td>0.000000</td>\n      <td>0.083333</td>\n      <td>0.000000</td>\n      <td>0.000000</td>\n      <td>0.000000</td>\n      <td>0.000000</td>\n      <td>0.000000</td>\n      <td>0.000000</td>\n    </tr>\n    <tr>\n      <th>7</th>\n      <td>The Gap</td>\n      <td>0.028571</td>\n      <td>0.000000</td>\n      <td>0.028571</td>\n      <td>0.000000</td>\n      <td>0.000000</td>\n      <td>0.028571</td>\n      <td>0.000000</td>\n      <td>0.000000</td>\n      <td>0.000000</td>\n      <td>...</td>\n      <td>0.000000</td>\n      <td>0.000000</td>\n      <td>0.028571</td>\n      <td>0.000000</td>\n      <td>0.000000</td>\n      <td>0.028571</td>\n      <td>0.000000</td>\n      <td>0.000000</td>\n      <td>0.028571</td>\n      <td>0.057143</td>\n    </tr>\n  </tbody>\n</table>\n<p>8 rows \u00d7 62 columns</p>\n</div>",
                        "text/plain": "       Neighborhood  African Restaurant  Art Gallery  Asian Restaurant  \\\n0       Bronzeville            0.000000     0.090909          0.000000   \n1    Dearborn Homes            0.000000     0.000000          0.066667   \n2    Groveland Park            0.000000     0.000000          0.000000   \n3      Lake Meadows            0.000000     0.000000          0.000000   \n4    Prairie Shores            0.000000     0.000000          0.000000   \n5     South Commons            0.000000     0.000000          0.000000   \n6  Stateway Gardens            0.000000     0.000000          0.000000   \n7           The Gap            0.028571     0.000000          0.028571   \n\n   Athletics & Sports    Bakery      Bank       Bar  Baseball Field  \\\n0            0.090909  0.000000  0.000000  0.000000        0.000000   \n1            0.000000  0.066667  0.000000  0.000000        0.000000   \n2            0.000000  0.000000  0.000000  0.000000        0.000000   \n3            0.000000  0.000000  0.000000  0.000000        0.000000   \n4            0.125000  0.000000  0.000000  0.000000        0.000000   \n5            0.000000  0.000000  0.000000  0.000000        0.000000   \n6            0.041667  0.000000  0.041667  0.041667        0.041667   \n7            0.000000  0.000000  0.028571  0.000000        0.000000   \n\n   Baseball Stadium  ...  Snack Place  Soccer Field  \\\n0          0.000000  ...     0.000000      0.000000   \n1          0.000000  ...     0.000000      0.066667   \n2          0.000000  ...     0.000000      0.000000   \n3          0.000000  ...     0.000000      0.000000   \n4          0.000000  ...     0.000000      0.000000   \n5          0.000000  ...     0.000000      0.000000   \n6          0.291667  ...     0.041667      0.000000   \n7          0.000000  ...     0.000000      0.000000   \n\n   Southern / Soul Food Restaurant  Sports Bar  Storage Facility  Supermarket  \\\n0                         0.090909    0.000000          0.000000     0.000000   \n1                         0.000000    0.000000          0.066667     0.000000   \n2                         0.000000    0.000000          0.000000     0.083333   \n3                         0.000000    0.000000          0.000000     0.047619   \n4                         0.000000    0.000000          0.000000     0.000000   \n5                         0.000000    0.000000          0.000000     0.000000   \n6                         0.000000    0.083333          0.000000     0.000000   \n7                         0.028571    0.000000          0.000000     0.028571   \n\n   Tennis Court  Train Station  Video Store  Wings Joint  \n0      0.000000       0.090909     0.000000     0.000000  \n1      0.000000       0.000000     0.000000     0.000000  \n2      0.083333       0.000000     0.000000     0.083333  \n3      0.000000       0.000000     0.047619     0.047619  \n4      0.000000       0.125000     0.000000     0.000000  \n5      0.000000       0.000000     0.000000     0.000000  \n6      0.000000       0.000000     0.000000     0.000000  \n7      0.000000       0.000000     0.028571     0.057143  \n\n[8 rows x 62 columns]"
                    },
                    "execution_count": 36,
                    "metadata": {},
                    "output_type": "execute_result"
                }
            ],
            "source": "douglas_grouped = douglas_onehot.groupby('Neighborhood').mean().reset_index()\ndouglas_grouped"
        },
        {
            "cell_type": "code",
            "execution_count": 37,
            "metadata": {},
            "outputs": [
                {
                    "name": "stdout",
                    "output_type": "stream",
                    "text": "----Bronzeville----\n                             venue  freq\n0                Convenience Store  0.09\n1  Southern / Soul Food Restaurant  0.09\n2                     Liquor Store  0.09\n3                      Art Gallery  0.09\n4                            Motel  0.09\n\n\n----Dearborn Homes----\n                  venue  freq\n0    Chinese Restaurant  0.20\n1  Gym / Fitness Center  0.13\n2      Storage Facility  0.07\n3   Rental Car Location  0.07\n4         Grocery Store  0.07\n\n\n----Groveland Park----\n         venue  freq\n0  Wings Joint  0.08\n1        Beach  0.08\n2          Gym  0.08\n3         Park  0.08\n4   Food Stand  0.08\n\n\n----Lake Meadows----\n                  venue  freq\n0  Fast Food Restaurant  0.14\n1        Cosmetics Shop  0.10\n2            Donut Shop  0.05\n3        Ice Cream Shop  0.05\n4                  Park  0.05\n\n\n----Prairie Shores----\n                  venue  freq\n0                  Park  0.25\n1        Lighting Store  0.12\n2    Athletics & Sports  0.12\n3         Train Station  0.12\n4  Gym / Fitness Center  0.12\n\n\n----South Commons----\n                        venue  freq\n0        Gym / Fitness Center   0.3\n1                        Park   0.2\n2  Construction & Landscaping   0.1\n3               Shopping Mall   0.1\n4         Rental Car Location   0.1\n\n\n----Stateway Gardens----\n              venue  freq\n0  Baseball Stadium  0.29\n1    Shipping Store  0.08\n2        Sports Bar  0.08\n3       Pizza Place  0.08\n4    Sandwich Place  0.04\n\n\n----The Gap----\n                  venue  freq\n0  Fast Food Restaurant  0.11\n1        Cosmetics Shop  0.09\n2           Wings Joint  0.06\n3        Sandwich Place  0.06\n4   Fried Chicken Joint  0.06\n\n\n"
                }
            ],
            "source": "num_top_venues = 5\n\nfor hood in douglas_grouped['Neighborhood']:\n    print(\"----\"+hood+\"----\")\n    temp = douglas_grouped[douglas_grouped['Neighborhood'] == hood].T.reset_index()\n    temp.columns = ['venue','freq']\n    temp = temp.iloc[1:]\n    temp['freq'] = temp['freq'].astype(float)\n    temp = temp.round({'freq': 2})\n    print(temp.sort_values('freq', ascending=False).reset_index(drop=True).head(num_top_venues))\n    print('\\n')"
        },
        {
            "cell_type": "code",
            "execution_count": 38,
            "metadata": {},
            "outputs": [],
            "source": "def return_most_common_venues(row, num_top_venues):\n    row_categories = row.iloc[1:]\n    row_categories_sorted = row_categories.sort_values(ascending=False)\n    \n    return row_categories_sorted.index.values[0:num_top_venues]"
        },
        {
            "cell_type": "code",
            "execution_count": 39,
            "metadata": {},
            "outputs": [
                {
                    "data": {
                        "text/html": "<div>\n<style scoped>\n    .dataframe tbody tr th:only-of-type {\n        vertical-align: middle;\n    }\n\n    .dataframe tbody tr th {\n        vertical-align: top;\n    }\n\n    .dataframe thead th {\n        text-align: right;\n    }\n</style>\n<table border=\"1\" class=\"dataframe\">\n  <thead>\n    <tr style=\"text-align: right;\">\n      <th></th>\n      <th>Neighborhood</th>\n      <th>1st Most Common Venue</th>\n      <th>2nd Most Common Venue</th>\n      <th>3rd Most Common Venue</th>\n      <th>4th Most Common Venue</th>\n      <th>5th Most Common Venue</th>\n      <th>6th Most Common Venue</th>\n      <th>7th Most Common Venue</th>\n      <th>8th Most Common Venue</th>\n      <th>9th Most Common Venue</th>\n      <th>10th Most Common Venue</th>\n    </tr>\n  </thead>\n  <tbody>\n    <tr>\n      <th>0</th>\n      <td>Bronzeville</td>\n      <td>Gym / Fitness Center</td>\n      <td>Liquor Store</td>\n      <td>Train Station</td>\n      <td>Art Gallery</td>\n      <td>Park</td>\n      <td>Athletics &amp; Sports</td>\n      <td>Southern / Soul Food Restaurant</td>\n      <td>Motel</td>\n      <td>Convenience Store</td>\n      <td>Italian Restaurant</td>\n    </tr>\n    <tr>\n      <th>1</th>\n      <td>Dearborn Homes</td>\n      <td>Chinese Restaurant</td>\n      <td>Gym / Fitness Center</td>\n      <td>Soccer Field</td>\n      <td>Grocery Store</td>\n      <td>New American Restaurant</td>\n      <td>Park</td>\n      <td>Rental Car Location</td>\n      <td>Bus Station</td>\n      <td>Hotel</td>\n      <td>Asian Restaurant</td>\n    </tr>\n    <tr>\n      <th>2</th>\n      <td>Groveland Park</td>\n      <td>Wings Joint</td>\n      <td>Lake</td>\n      <td>Gym</td>\n      <td>Residential Building (Apartment / Condo)</td>\n      <td>Sandwich Place</td>\n      <td>Beach</td>\n      <td>Donut Shop</td>\n      <td>Park</td>\n      <td>Skate Park</td>\n      <td>Food Stand</td>\n    </tr>\n    <tr>\n      <th>3</th>\n      <td>Lake Meadows</td>\n      <td>Fast Food Restaurant</td>\n      <td>Cosmetics Shop</td>\n      <td>Wings Joint</td>\n      <td>Sandwich Place</td>\n      <td>Gym</td>\n      <td>Gym / Fitness Center</td>\n      <td>Video Store</td>\n      <td>Ice Cream Shop</td>\n      <td>Donut Shop</td>\n      <td>Mobile Phone Shop</td>\n    </tr>\n    <tr>\n      <th>4</th>\n      <td>Prairie Shores</td>\n      <td>Park</td>\n      <td>Shopping Mall</td>\n      <td>Train Station</td>\n      <td>Gym / Fitness Center</td>\n      <td>Athletics &amp; Sports</td>\n      <td>Bus Station</td>\n      <td>Lighting Store</td>\n      <td>Wings Joint</td>\n      <td>Donut Shop</td>\n      <td>Eye Doctor</td>\n    </tr>\n    <tr>\n      <th>5</th>\n      <td>South Commons</td>\n      <td>Gym / Fitness Center</td>\n      <td>Park</td>\n      <td>Construction &amp; Landscaping</td>\n      <td>Business Service</td>\n      <td>Bus Station</td>\n      <td>Shopping Mall</td>\n      <td>Rental Car Location</td>\n      <td>Flower Shop</td>\n      <td>Fast Food Restaurant</td>\n      <td>Food &amp; Drink Shop</td>\n    </tr>\n    <tr>\n      <th>6</th>\n      <td>Stateway Gardens</td>\n      <td>Baseball Stadium</td>\n      <td>Shipping Store</td>\n      <td>Pizza Place</td>\n      <td>Sports Bar</td>\n      <td>Baseball Field</td>\n      <td>Coffee Shop</td>\n      <td>Park</td>\n      <td>Plaza</td>\n      <td>Bus Station</td>\n      <td>Sandwich Place</td>\n    </tr>\n    <tr>\n      <th>7</th>\n      <td>The Gap</td>\n      <td>Fast Food Restaurant</td>\n      <td>Cosmetics Shop</td>\n      <td>Wings Joint</td>\n      <td>Sandwich Place</td>\n      <td>Fried Chicken Joint</td>\n      <td>Historic Site</td>\n      <td>Mobile Phone Shop</td>\n      <td>Liquor Store</td>\n      <td>Ice Cream Shop</td>\n      <td>Video Store</td>\n    </tr>\n  </tbody>\n</table>\n</div>",
                        "text/plain": "       Neighborhood 1st Most Common Venue 2nd Most Common Venue  \\\n0       Bronzeville  Gym / Fitness Center          Liquor Store   \n1    Dearborn Homes    Chinese Restaurant  Gym / Fitness Center   \n2    Groveland Park           Wings Joint                  Lake   \n3      Lake Meadows  Fast Food Restaurant        Cosmetics Shop   \n4    Prairie Shores                  Park         Shopping Mall   \n5     South Commons  Gym / Fitness Center                  Park   \n6  Stateway Gardens      Baseball Stadium        Shipping Store   \n7           The Gap  Fast Food Restaurant        Cosmetics Shop   \n\n        3rd Most Common Venue                     4th Most Common Venue  \\\n0               Train Station                               Art Gallery   \n1                Soccer Field                             Grocery Store   \n2                         Gym  Residential Building (Apartment / Condo)   \n3                 Wings Joint                            Sandwich Place   \n4               Train Station                      Gym / Fitness Center   \n5  Construction & Landscaping                          Business Service   \n6                 Pizza Place                                Sports Bar   \n7                 Wings Joint                            Sandwich Place   \n\n     5th Most Common Venue 6th Most Common Venue  \\\n0                     Park    Athletics & Sports   \n1  New American Restaurant                  Park   \n2           Sandwich Place                 Beach   \n3                      Gym  Gym / Fitness Center   \n4       Athletics & Sports           Bus Station   \n5              Bus Station         Shopping Mall   \n6           Baseball Field           Coffee Shop   \n7      Fried Chicken Joint         Historic Site   \n\n             7th Most Common Venue 8th Most Common Venue  \\\n0  Southern / Soul Food Restaurant                 Motel   \n1              Rental Car Location           Bus Station   \n2                       Donut Shop                  Park   \n3                      Video Store        Ice Cream Shop   \n4                   Lighting Store           Wings Joint   \n5              Rental Car Location           Flower Shop   \n6                             Park                 Plaza   \n7                Mobile Phone Shop          Liquor Store   \n\n  9th Most Common Venue 10th Most Common Venue  \n0     Convenience Store     Italian Restaurant  \n1                 Hotel       Asian Restaurant  \n2            Skate Park             Food Stand  \n3            Donut Shop      Mobile Phone Shop  \n4            Donut Shop             Eye Doctor  \n5  Fast Food Restaurant      Food & Drink Shop  \n6           Bus Station         Sandwich Place  \n7        Ice Cream Shop            Video Store  "
                    },
                    "execution_count": 39,
                    "metadata": {},
                    "output_type": "execute_result"
                }
            ],
            "source": "num_top_venues = 10\n\nindicators = ['st', 'nd', 'rd']\n\n# create columns according to number of top venues\ncolumns = ['Neighborhood']\nfor ind in np.arange(num_top_venues):\n    try:\n        columns.append('{}{} Most Common Venue'.format(ind+1, indicators[ind]))\n    except:\n        columns.append('{}th Most Common Venue'.format(ind+1))\n\n# create a new dataframe\nneighborhoods_venues_sorted = pd.DataFrame(columns=columns)\nneighborhoods_venues_sorted['Neighborhood'] = douglas_grouped['Neighborhood']\n\nfor ind in np.arange(douglas_grouped.shape[0]):\n    neighborhoods_venues_sorted.iloc[ind, 1:] = return_most_common_venues(douglas_grouped.iloc[ind, :], num_top_venues)\n\nneighborhoods_venues_sorted.head(10)"
        },
        {
            "cell_type": "markdown",
            "metadata": {},
            "source": "As we can now see we have a dataframe, which clearly defines Douglas community area neighborhoods and top 10 most common places in the 8 areas. Now it is time to cluster these neighborhoods to simplify decision making and visualize it"
        },
        {
            "cell_type": "code",
            "execution_count": 40,
            "metadata": {},
            "outputs": [
                {
                    "data": {
                        "text/plain": "array([3, 4, 0, 0, 1, 1, 2, 0], dtype=int32)"
                    },
                    "execution_count": 40,
                    "metadata": {},
                    "output_type": "execute_result"
                }
            ],
            "source": "# set number of clusters\nkclusters = 5\n\ndouglas_grouped_clustering = douglas_grouped.drop('Neighborhood', 1)\n\n# run k-means clustering\nkmeans = KMeans(n_clusters=kclusters, random_state=0).fit(douglas_grouped_clustering)\n\n# check cluster labels generated for each row in the dataframe\nkmeans.labels_[0:10] "
        },
        {
            "cell_type": "code",
            "execution_count": 41,
            "metadata": {},
            "outputs": [
                {
                    "data": {
                        "text/html": "<div>\n<style scoped>\n    .dataframe tbody tr th:only-of-type {\n        vertical-align: middle;\n    }\n\n    .dataframe tbody tr th {\n        vertical-align: top;\n    }\n\n    .dataframe thead th {\n        text-align: right;\n    }\n</style>\n<table border=\"1\" class=\"dataframe\">\n  <thead>\n    <tr style=\"text-align: right;\">\n      <th></th>\n      <th>Neighborhood</th>\n      <th>Community area</th>\n      <th>lattitude</th>\n      <th>longitude</th>\n      <th>Cluster Labels</th>\n      <th>1st Most Common Venue</th>\n      <th>2nd Most Common Venue</th>\n      <th>3rd Most Common Venue</th>\n      <th>4th Most Common Venue</th>\n      <th>5th Most Common Venue</th>\n      <th>6th Most Common Venue</th>\n      <th>7th Most Common Venue</th>\n      <th>8th Most Common Venue</th>\n      <th>9th Most Common Venue</th>\n      <th>10th Most Common Venue</th>\n    </tr>\n  </thead>\n  <tbody>\n    <tr>\n      <th>0</th>\n      <td>South Commons</td>\n      <td>Douglas</td>\n      <td>41.842182</td>\n      <td>-87.620300</td>\n      <td>1</td>\n      <td>Gym / Fitness Center</td>\n      <td>Park</td>\n      <td>Construction &amp; Landscaping</td>\n      <td>Business Service</td>\n      <td>Bus Station</td>\n      <td>Shopping Mall</td>\n      <td>Rental Car Location</td>\n      <td>Flower Shop</td>\n      <td>Fast Food Restaurant</td>\n      <td>Food &amp; Drink Shop</td>\n    </tr>\n    <tr>\n      <th>1</th>\n      <td>Prairie Shores</td>\n      <td>Douglas</td>\n      <td>41.842300</td>\n      <td>-87.614900</td>\n      <td>1</td>\n      <td>Park</td>\n      <td>Shopping Mall</td>\n      <td>Train Station</td>\n      <td>Gym / Fitness Center</td>\n      <td>Athletics &amp; Sports</td>\n      <td>Bus Station</td>\n      <td>Lighting Store</td>\n      <td>Wings Joint</td>\n      <td>Donut Shop</td>\n      <td>Eye Doctor</td>\n    </tr>\n    <tr>\n      <th>2</th>\n      <td>Lake Meadows</td>\n      <td>Douglas</td>\n      <td>41.835200</td>\n      <td>-87.614000</td>\n      <td>0</td>\n      <td>Fast Food Restaurant</td>\n      <td>Cosmetics Shop</td>\n      <td>Wings Joint</td>\n      <td>Sandwich Place</td>\n      <td>Gym</td>\n      <td>Gym / Fitness Center</td>\n      <td>Video Store</td>\n      <td>Ice Cream Shop</td>\n      <td>Donut Shop</td>\n      <td>Mobile Phone Shop</td>\n    </tr>\n    <tr>\n      <th>3</th>\n      <td>Bronzeville</td>\n      <td>Douglas</td>\n      <td>41.824774</td>\n      <td>-87.624294</td>\n      <td>3</td>\n      <td>Gym / Fitness Center</td>\n      <td>Liquor Store</td>\n      <td>Train Station</td>\n      <td>Art Gallery</td>\n      <td>Park</td>\n      <td>Athletics &amp; Sports</td>\n      <td>Southern / Soul Food Restaurant</td>\n      <td>Motel</td>\n      <td>Convenience Store</td>\n      <td>Italian Restaurant</td>\n    </tr>\n    <tr>\n      <th>4</th>\n      <td>Stateway Gardens</td>\n      <td>Douglas</td>\n      <td>41.827500</td>\n      <td>-87.628400</td>\n      <td>2</td>\n      <td>Baseball Stadium</td>\n      <td>Shipping Store</td>\n      <td>Pizza Place</td>\n      <td>Sports Bar</td>\n      <td>Baseball Field</td>\n      <td>Coffee Shop</td>\n      <td>Park</td>\n      <td>Plaza</td>\n      <td>Bus Station</td>\n      <td>Sandwich Place</td>\n    </tr>\n  </tbody>\n</table>\n</div>",
                        "text/plain": "       Neighborhood Community area  lattitude  longitude  Cluster Labels  \\\n0     South Commons        Douglas  41.842182 -87.620300               1   \n1    Prairie Shores        Douglas  41.842300 -87.614900               1   \n2      Lake Meadows        Douglas  41.835200 -87.614000               0   \n3       Bronzeville        Douglas  41.824774 -87.624294               3   \n4  Stateway Gardens        Douglas  41.827500 -87.628400               2   \n\n  1st Most Common Venue 2nd Most Common Venue       3rd Most Common Venue  \\\n0  Gym / Fitness Center                  Park  Construction & Landscaping   \n1                  Park         Shopping Mall               Train Station   \n2  Fast Food Restaurant        Cosmetics Shop                 Wings Joint   \n3  Gym / Fitness Center          Liquor Store               Train Station   \n4      Baseball Stadium        Shipping Store                 Pizza Place   \n\n  4th Most Common Venue 5th Most Common Venue 6th Most Common Venue  \\\n0      Business Service           Bus Station         Shopping Mall   \n1  Gym / Fitness Center    Athletics & Sports           Bus Station   \n2        Sandwich Place                   Gym  Gym / Fitness Center   \n3           Art Gallery                  Park    Athletics & Sports   \n4            Sports Bar        Baseball Field           Coffee Shop   \n\n             7th Most Common Venue 8th Most Common Venue  \\\n0              Rental Car Location           Flower Shop   \n1                   Lighting Store           Wings Joint   \n2                      Video Store        Ice Cream Shop   \n3  Southern / Soul Food Restaurant                 Motel   \n4                             Park                 Plaza   \n\n  9th Most Common Venue 10th Most Common Venue  \n0  Fast Food Restaurant      Food & Drink Shop  \n1            Donut Shop             Eye Doctor  \n2            Donut Shop      Mobile Phone Shop  \n3     Convenience Store     Italian Restaurant  \n4           Bus Station         Sandwich Place  "
                    },
                    "execution_count": 41,
                    "metadata": {},
                    "output_type": "execute_result"
                }
            ],
            "source": "# add clustering labels\nneighborhoods_venues_sorted.insert(0, 'Cluster Labels', kmeans.labels_)\n\ndouglas_merged = douglas\n\n\ndouglas_merged = douglas_merged.join(neighborhoods_venues_sorted.set_index('Neighborhood'), on='Neighborhood')\n\ndouglas_merged.head() "
        },
        {
            "cell_type": "code",
            "execution_count": 43,
            "metadata": {},
            "outputs": [
                {
                    "data": {
                        "text/html": "<div style=\"width:100%;\"><div style=\"position:relative;width:100%;height:0;padding-bottom:60%;\"><span style=\"color:#565656\">Make this Notebook Trusted to load map: File -> Trust Notebook</span><iframe src=\"about:blank\" style=\"position:absolute;width:100%;height:100%;left:0;top:0;border:none !important;\" data-html=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 onload=\"this.contentDocument.open();this.contentDocument.write(atob(this.getAttribute('data-html')));this.contentDocument.close();\" allowfullscreen webkitallowfullscreen mozallowfullscreen></iframe></div></div>",
                        "text/plain": "<folium.folium.Map at 0x7fe12708e2d0>"
                    },
                    "execution_count": 43,
                    "metadata": {},
                    "output_type": "execute_result"
                }
            ],
            "source": "# create map\nmap_clusters = folium.Map(location=[latitude, longitude], zoom_start=7)\n\n# set color scheme for the clusters\nx = np.arange(kclusters)\nys = [i + x + (i*x)**2 for i in range(kclusters)]\ncolors_array = cm.rainbow(np.linspace(0, 1, len(ys)))\nrainbow = [colors.rgb2hex(i) for i in colors_array]\n\n# add markers to the map\nmarkers_colors = []\nfor lat, lon, poi, cluster in zip(douglas_merged['lattitude'], douglas_merged['longitude'], douglas_merged['Neighborhood'], douglas_merged['Cluster Labels']):\n    label = folium.Popup(str(poi) + ' Cluster ' + str(cluster), parse_html=True)\n    folium.CircleMarker(\n        [lat, lon],\n        radius=5,\n        popup=label,\n        fill=True,\n        fill_opacity=0.7).add_to(map_clusters)\n       \nmap_clusters"
        },
        {
            "cell_type": "markdown",
            "metadata": {},
            "source": "We have visualized clusters on the map on our hand now and the final step for analysis would be exploring each cluster"
        },
        {
            "cell_type": "code",
            "execution_count": 44,
            "metadata": {},
            "outputs": [
                {
                    "data": {
                        "text/html": "<div>\n<style scoped>\n    .dataframe tbody tr th:only-of-type {\n        vertical-align: middle;\n    }\n\n    .dataframe tbody tr th {\n        vertical-align: top;\n    }\n\n    .dataframe thead th {\n        text-align: right;\n    }\n</style>\n<table border=\"1\" class=\"dataframe\">\n  <thead>\n    <tr style=\"text-align: right;\">\n      <th></th>\n      <th>Community area</th>\n      <th>1st Most Common Venue</th>\n      <th>2nd Most Common Venue</th>\n      <th>3rd Most Common Venue</th>\n      <th>4th Most Common Venue</th>\n      <th>5th Most Common Venue</th>\n      <th>6th Most Common Venue</th>\n      <th>7th Most Common Venue</th>\n      <th>8th Most Common Venue</th>\n      <th>9th Most Common Venue</th>\n      <th>10th Most Common Venue</th>\n    </tr>\n  </thead>\n  <tbody>\n    <tr>\n      <th>2</th>\n      <td>Douglas</td>\n      <td>Fast Food Restaurant</td>\n      <td>Cosmetics Shop</td>\n      <td>Wings Joint</td>\n      <td>Sandwich Place</td>\n      <td>Gym</td>\n      <td>Gym / Fitness Center</td>\n      <td>Video Store</td>\n      <td>Ice Cream Shop</td>\n      <td>Donut Shop</td>\n      <td>Mobile Phone Shop</td>\n    </tr>\n    <tr>\n      <th>5</th>\n      <td>Douglas</td>\n      <td>Wings Joint</td>\n      <td>Lake</td>\n      <td>Gym</td>\n      <td>Residential Building (Apartment / Condo)</td>\n      <td>Sandwich Place</td>\n      <td>Beach</td>\n      <td>Donut Shop</td>\n      <td>Park</td>\n      <td>Skate Park</td>\n      <td>Food Stand</td>\n    </tr>\n    <tr>\n      <th>6</th>\n      <td>Douglas</td>\n      <td>Fast Food Restaurant</td>\n      <td>Cosmetics Shop</td>\n      <td>Wings Joint</td>\n      <td>Sandwich Place</td>\n      <td>Fried Chicken Joint</td>\n      <td>Historic Site</td>\n      <td>Mobile Phone Shop</td>\n      <td>Liquor Store</td>\n      <td>Ice Cream Shop</td>\n      <td>Video Store</td>\n    </tr>\n  </tbody>\n</table>\n</div>",
                        "text/plain": "  Community area 1st Most Common Venue 2nd Most Common Venue  \\\n2        Douglas  Fast Food Restaurant        Cosmetics Shop   \n5        Douglas           Wings Joint                  Lake   \n6        Douglas  Fast Food Restaurant        Cosmetics Shop   \n\n  3rd Most Common Venue                     4th Most Common Venue  \\\n2           Wings Joint                            Sandwich Place   \n5                   Gym  Residential Building (Apartment / Condo)   \n6           Wings Joint                            Sandwich Place   \n\n  5th Most Common Venue 6th Most Common Venue 7th Most Common Venue  \\\n2                   Gym  Gym / Fitness Center           Video Store   \n5        Sandwich Place                 Beach            Donut Shop   \n6   Fried Chicken Joint         Historic Site     Mobile Phone Shop   \n\n  8th Most Common Venue 9th Most Common Venue 10th Most Common Venue  \n2        Ice Cream Shop            Donut Shop      Mobile Phone Shop  \n5                  Park            Skate Park             Food Stand  \n6          Liquor Store        Ice Cream Shop            Video Store  "
                    },
                    "execution_count": 44,
                    "metadata": {},
                    "output_type": "execute_result"
                }
            ],
            "source": "douglas_merged.loc[douglas_merged['Cluster Labels'] == 0, douglas_merged.columns[[1] + list(range(5, douglas_merged.shape[1]))]]"
        },
        {
            "cell_type": "code",
            "execution_count": 45,
            "metadata": {},
            "outputs": [
                {
                    "data": {
                        "text/html": "<div>\n<style scoped>\n    .dataframe tbody tr th:only-of-type {\n        vertical-align: middle;\n    }\n\n    .dataframe tbody tr th {\n        vertical-align: top;\n    }\n\n    .dataframe thead th {\n        text-align: right;\n    }\n</style>\n<table border=\"1\" class=\"dataframe\">\n  <thead>\n    <tr style=\"text-align: right;\">\n      <th></th>\n      <th>Community area</th>\n      <th>1st Most Common Venue</th>\n      <th>2nd Most Common Venue</th>\n      <th>3rd Most Common Venue</th>\n      <th>4th Most Common Venue</th>\n      <th>5th Most Common Venue</th>\n      <th>6th Most Common Venue</th>\n      <th>7th Most Common Venue</th>\n      <th>8th Most Common Venue</th>\n      <th>9th Most Common Venue</th>\n      <th>10th Most Common Venue</th>\n    </tr>\n  </thead>\n  <tbody>\n    <tr>\n      <th>0</th>\n      <td>Douglas</td>\n      <td>Gym / Fitness Center</td>\n      <td>Park</td>\n      <td>Construction &amp; Landscaping</td>\n      <td>Business Service</td>\n      <td>Bus Station</td>\n      <td>Shopping Mall</td>\n      <td>Rental Car Location</td>\n      <td>Flower Shop</td>\n      <td>Fast Food Restaurant</td>\n      <td>Food &amp; Drink Shop</td>\n    </tr>\n    <tr>\n      <th>1</th>\n      <td>Douglas</td>\n      <td>Park</td>\n      <td>Shopping Mall</td>\n      <td>Train Station</td>\n      <td>Gym / Fitness Center</td>\n      <td>Athletics &amp; Sports</td>\n      <td>Bus Station</td>\n      <td>Lighting Store</td>\n      <td>Wings Joint</td>\n      <td>Donut Shop</td>\n      <td>Eye Doctor</td>\n    </tr>\n  </tbody>\n</table>\n</div>",
                        "text/plain": "  Community area 1st Most Common Venue 2nd Most Common Venue  \\\n0        Douglas  Gym / Fitness Center                  Park   \n1        Douglas                  Park         Shopping Mall   \n\n        3rd Most Common Venue 4th Most Common Venue 5th Most Common Venue  \\\n0  Construction & Landscaping      Business Service           Bus Station   \n1               Train Station  Gym / Fitness Center    Athletics & Sports   \n\n  6th Most Common Venue 7th Most Common Venue 8th Most Common Venue  \\\n0         Shopping Mall   Rental Car Location           Flower Shop   \n1           Bus Station        Lighting Store           Wings Joint   \n\n  9th Most Common Venue 10th Most Common Venue  \n0  Fast Food Restaurant      Food & Drink Shop  \n1            Donut Shop             Eye Doctor  "
                    },
                    "execution_count": 45,
                    "metadata": {},
                    "output_type": "execute_result"
                }
            ],
            "source": "douglas_merged.loc[douglas_merged['Cluster Labels'] == 1, douglas_merged.columns[[1] + list(range(5, douglas_merged.shape[1]))]]"
        },
        {
            "cell_type": "code",
            "execution_count": 46,
            "metadata": {},
            "outputs": [
                {
                    "data": {
                        "text/html": "<div>\n<style scoped>\n    .dataframe tbody tr th:only-of-type {\n        vertical-align: middle;\n    }\n\n    .dataframe tbody tr th {\n        vertical-align: top;\n    }\n\n    .dataframe thead th {\n        text-align: right;\n    }\n</style>\n<table border=\"1\" class=\"dataframe\">\n  <thead>\n    <tr style=\"text-align: right;\">\n      <th></th>\n      <th>Community area</th>\n      <th>1st Most Common Venue</th>\n      <th>2nd Most Common Venue</th>\n      <th>3rd Most Common Venue</th>\n      <th>4th Most Common Venue</th>\n      <th>5th Most Common Venue</th>\n      <th>6th Most Common Venue</th>\n      <th>7th Most Common Venue</th>\n      <th>8th Most Common Venue</th>\n      <th>9th Most Common Venue</th>\n      <th>10th Most Common Venue</th>\n    </tr>\n  </thead>\n  <tbody>\n    <tr>\n      <th>4</th>\n      <td>Douglas</td>\n      <td>Baseball Stadium</td>\n      <td>Shipping Store</td>\n      <td>Pizza Place</td>\n      <td>Sports Bar</td>\n      <td>Baseball Field</td>\n      <td>Coffee Shop</td>\n      <td>Park</td>\n      <td>Plaza</td>\n      <td>Bus Station</td>\n      <td>Sandwich Place</td>\n    </tr>\n  </tbody>\n</table>\n</div>",
                        "text/plain": "  Community area 1st Most Common Venue 2nd Most Common Venue  \\\n4        Douglas      Baseball Stadium        Shipping Store   \n\n  3rd Most Common Venue 4th Most Common Venue 5th Most Common Venue  \\\n4           Pizza Place            Sports Bar        Baseball Field   \n\n  6th Most Common Venue 7th Most Common Venue 8th Most Common Venue  \\\n4           Coffee Shop                  Park                 Plaza   \n\n  9th Most Common Venue 10th Most Common Venue  \n4           Bus Station         Sandwich Place  "
                    },
                    "execution_count": 46,
                    "metadata": {},
                    "output_type": "execute_result"
                }
            ],
            "source": "douglas_merged.loc[douglas_merged['Cluster Labels'] == 2, douglas_merged.columns[[1] + list(range(5, douglas_merged.shape[1]))]]"
        },
        {
            "cell_type": "code",
            "execution_count": 47,
            "metadata": {},
            "outputs": [
                {
                    "data": {
                        "text/html": "<div>\n<style scoped>\n    .dataframe tbody tr th:only-of-type {\n        vertical-align: middle;\n    }\n\n    .dataframe tbody tr th {\n        vertical-align: top;\n    }\n\n    .dataframe thead th {\n        text-align: right;\n    }\n</style>\n<table border=\"1\" class=\"dataframe\">\n  <thead>\n    <tr style=\"text-align: right;\">\n      <th></th>\n      <th>Community area</th>\n      <th>1st Most Common Venue</th>\n      <th>2nd Most Common Venue</th>\n      <th>3rd Most Common Venue</th>\n      <th>4th Most Common Venue</th>\n      <th>5th Most Common Venue</th>\n      <th>6th Most Common Venue</th>\n      <th>7th Most Common Venue</th>\n      <th>8th Most Common Venue</th>\n      <th>9th Most Common Venue</th>\n      <th>10th Most Common Venue</th>\n    </tr>\n  </thead>\n  <tbody>\n    <tr>\n      <th>3</th>\n      <td>Douglas</td>\n      <td>Gym / Fitness Center</td>\n      <td>Liquor Store</td>\n      <td>Train Station</td>\n      <td>Art Gallery</td>\n      <td>Park</td>\n      <td>Athletics &amp; Sports</td>\n      <td>Southern / Soul Food Restaurant</td>\n      <td>Motel</td>\n      <td>Convenience Store</td>\n      <td>Italian Restaurant</td>\n    </tr>\n  </tbody>\n</table>\n</div>",
                        "text/plain": "  Community area 1st Most Common Venue 2nd Most Common Venue  \\\n3        Douglas  Gym / Fitness Center          Liquor Store   \n\n  3rd Most Common Venue 4th Most Common Venue 5th Most Common Venue  \\\n3         Train Station           Art Gallery                  Park   \n\n  6th Most Common Venue            7th Most Common Venue  \\\n3    Athletics & Sports  Southern / Soul Food Restaurant   \n\n  8th Most Common Venue 9th Most Common Venue 10th Most Common Venue  \n3                 Motel     Convenience Store     Italian Restaurant  "
                    },
                    "execution_count": 47,
                    "metadata": {},
                    "output_type": "execute_result"
                }
            ],
            "source": "douglas_merged.loc[douglas_merged['Cluster Labels'] == 3, douglas_merged.columns[[1] + list(range(5, douglas_merged.shape[1]))]]"
        },
        {
            "cell_type": "code",
            "execution_count": 48,
            "metadata": {},
            "outputs": [
                {
                    "data": {
                        "text/html": "<div>\n<style scoped>\n    .dataframe tbody tr th:only-of-type {\n        vertical-align: middle;\n    }\n\n    .dataframe tbody tr th {\n        vertical-align: top;\n    }\n\n    .dataframe thead th {\n        text-align: right;\n    }\n</style>\n<table border=\"1\" class=\"dataframe\">\n  <thead>\n    <tr style=\"text-align: right;\">\n      <th></th>\n      <th>Community area</th>\n      <th>1st Most Common Venue</th>\n      <th>2nd Most Common Venue</th>\n      <th>3rd Most Common Venue</th>\n      <th>4th Most Common Venue</th>\n      <th>5th Most Common Venue</th>\n      <th>6th Most Common Venue</th>\n      <th>7th Most Common Venue</th>\n      <th>8th Most Common Venue</th>\n      <th>9th Most Common Venue</th>\n      <th>10th Most Common Venue</th>\n    </tr>\n  </thead>\n  <tbody>\n    <tr>\n      <th>7</th>\n      <td>Douglas</td>\n      <td>Chinese Restaurant</td>\n      <td>Gym / Fitness Center</td>\n      <td>Soccer Field</td>\n      <td>Grocery Store</td>\n      <td>New American Restaurant</td>\n      <td>Park</td>\n      <td>Rental Car Location</td>\n      <td>Bus Station</td>\n      <td>Hotel</td>\n      <td>Asian Restaurant</td>\n    </tr>\n  </tbody>\n</table>\n</div>",
                        "text/plain": "  Community area 1st Most Common Venue 2nd Most Common Venue  \\\n7        Douglas    Chinese Restaurant  Gym / Fitness Center   \n\n  3rd Most Common Venue 4th Most Common Venue    5th Most Common Venue  \\\n7          Soccer Field         Grocery Store  New American Restaurant   \n\n  6th Most Common Venue 7th Most Common Venue 8th Most Common Venue  \\\n7                  Park   Rental Car Location           Bus Station   \n\n  9th Most Common Venue 10th Most Common Venue  \n7                 Hotel       Asian Restaurant  "
                    },
                    "execution_count": 48,
                    "metadata": {},
                    "output_type": "execute_result"
                }
            ],
            "source": "douglas_merged.loc[douglas_merged['Cluster Labels'] == 4, douglas_merged.columns[[1] + list(range(5, douglas_merged.shape[1]))]]"
        },
        {
            "cell_type": "markdown",
            "metadata": {},
            "source": "# Results and discussion"
        },
        {
            "cell_type": "markdown",
            "metadata": {},
            "source": "We have reached our goal which included several steps: Getting the information about the venues in the Douglas community area, classifying them by the venue categories and finally clustering them and displaying visually on the map <br>\n\nThis process has given us the opportunity to make the decision regarding the location of the burger place.<br>\n\nFirst of all, I would like to highlight the following observation: As expected, there are significant amounts of fast food locations in the community area. For example, we can take cluster 0, where among the first most common places were fast food restaurants and wings joint. Competition is welcome in modern business but naturally, business owner wants to open the new location at the neighborhood which is not very saturated with competitors such as wings joint, fast food restaurants, sandwich places and etc.<br>\n\nBased on these criteriums, cluster 2 is particularly interesting for the following reasons: There is a major sports related venue here a large baseball stadium (Guaranteed rate field) which is home to the major league baseball team. This means that thousands of supporters will gather there on regular basis and many sports lovers also share the love for the fast food, especially burgers. Another reason is that is not overly saturated with fast food locations<br>\n\nTo sum up, my recommendation to the burger joint owner would be cluster 2 and I believe that he has to pursue place for sale or rent in that area for the reasons specified above"
        },
        {
            "cell_type": "markdown",
            "metadata": {},
            "source": "# Conclusion"
        },
        {
            "cell_type": "markdown",
            "metadata": {},
            "source": "The aim of this project was to identify suitable areas for opening new burger joint location in Chicago, Douglas community area.\nBesides that, this project showed that using modern tools, data analyst/scientist can give a stakeholder recommendations regarding geographical location without even visiting the place itself and even more without being in the same country or the continent"
        },
        {
            "cell_type": "code",
            "execution_count": null,
            "metadata": {},
            "outputs": [],
            "source": ""
        }
    ],
    "metadata": {
        "kernelspec": {
            "display_name": "Python 3.7",
            "language": "python",
            "name": "python3"
        },
        "language_info": {
            "codemirror_mode": {
                "name": "ipython",
                "version": 3
            },
            "file_extension": ".py",
            "mimetype": "text/x-python",
            "name": "python",
            "nbconvert_exporter": "python",
            "pygments_lexer": "ipython3",
            "version": "3.7.9"
        }
    },
    "nbformat": 4,
    "nbformat_minor": 1
}